{
 "cells": [
  {
   "cell_type": "code",
   "execution_count": 3,
   "metadata": {},
   "outputs": [
    {
     "name": "stdout",
     "output_type": "stream",
     "text": [
      "Hello, Python!\n"
     ]
    }
   ],
   "source": [
    "print('Hello, Python!') # This line prints a string\n",
    "# print('Hi')"
   ]
  },
  {
   "cell_type": "code",
   "execution_count": 4,
   "metadata": {},
   "outputs": [
    {
     "name": "stdout",
     "output_type": "stream",
     "text": [
      "This will be printed\n",
      "This will NOT be printed\n"
     ]
    }
   ],
   "source": [
    "# Print string and error to see the running order\n",
    "\n",
    "print(\"This will be printed\")\n",
    "'''\n",
    "frint(\"This will cause an error\")\n",
    "'''\n",
    "print(\"This will NOT be printed\")"
   ]
  },
  {
   "cell_type": "code",
   "execution_count": 5,
   "metadata": {},
   "outputs": [
    {
     "name": "stdout",
     "output_type": "stream",
     "text": [
      "Hello, World!\n"
     ]
    }
   ],
   "source": [
    "#Exercise: Your First Program\n",
    "print('Hello, World!')"
   ]
  },
  {
   "cell_type": "code",
   "execution_count": 9,
   "metadata": {},
   "outputs": [
    {
     "name": "stdout",
     "output_type": "stream",
     "text": [
      "<class 'int'>\n",
      "<class 'float'>\n",
      "<class 'str'>\n",
      "<class 'int'>\n"
     ]
    }
   ],
   "source": [
    "#Types of Objects in Python \n",
    "\n",
    "#Intenger = 11\n",
    "#Float = 2.14\n",
    "#String = \"Hello, Python 101!\"\n",
    "\n",
    "print(type(12))\n",
    "print(type(2.14))\n",
    "print(type(\"Hello, Python 101!\"))\n",
    "print(type(-10))"
   ]
  },
  {
   "cell_type": "code",
   "execution_count": 50,
   "metadata": {},
   "outputs": [
    {
     "ename": "NameError",
     "evalue": "name 'sys' is not defined",
     "output_type": "error",
     "traceback": [
      "\u001b[1;31m---------------------------------------------------------------------------\u001b[0m",
      "\u001b[1;31mNameError\u001b[0m                                 Traceback (most recent call last)",
      "\u001b[1;32m<ipython-input-50-1235af9afd05>\u001b[0m in \u001b[0;36m<module>\u001b[1;34m\u001b[0m\n\u001b[0;32m      1\u001b[0m \u001b[1;31m# System settings about float type\u001b[0m\u001b[1;33m\u001b[0m\u001b[1;33m\u001b[0m\u001b[1;33m\u001b[0m\u001b[0m\n\u001b[1;32m----> 2\u001b[1;33m \u001b[0msys\u001b[0m\u001b[1;33m.\u001b[0m\u001b[0mfloat_info\u001b[0m\u001b[1;33m\u001b[0m\u001b[1;33m\u001b[0m\u001b[0m\n\u001b[0m",
      "\u001b[1;31mNameError\u001b[0m: name 'sys' is not defined"
     ]
    }
   ],
   "source": [
    "# System settings about float type\n",
    "sys.float_info"
   ]
  },
  {
   "cell_type": "code",
   "execution_count": 13,
   "metadata": {},
   "outputs": [
    {
     "name": "stdout",
     "output_type": "stream",
     "text": [
      "2.0\n",
      "<class 'float'>\n"
     ]
    }
   ],
   "source": [
    "#Converting from one object type to a different object type\n",
    "#Converting Integers into FLoats: \n",
    "\n",
    "print(float(2)) \n",
    " \n",
    "# Convert integer 2 to a float and check its type\n",
    "\n",
    "print(type(float(2)))"
   ]
  },
  {
   "cell_type": "code",
   "execution_count": 24,
   "metadata": {},
   "outputs": [
    {
     "name": "stdout",
     "output_type": "stream",
     "text": [
      "1\n",
      "1\n",
      "1.2\n",
      "1\n",
      "<class 'str'>\n",
      "1.2\n"
     ]
    }
   ],
   "source": [
    "# Casting 1.1 to integer will result in loss of information\n",
    "print(int(1.1))\n",
    "\n",
    "#Convert a string into an integer\n",
    "\n",
    "print(int('1'))\n",
    "\n",
    "#But if you try to do so with a string that is not a perfect match for a number, you'll get an error. Try the following:\n",
    "# print(int('1 or 2 people'))\n",
    "\n",
    "print(float('1.2'))\n",
    "\n",
    "#Conver an integer into a string\n",
    "print(str(1))\n",
    "print(type(str(1)))\n",
    "\n",
    "# Convert a float to a string\n",
    "\n",
    "print(str(1.2))"
   ]
  },
  {
   "cell_type": "code",
   "execution_count": 38,
   "metadata": {},
   "outputs": [
    {
     "data": {
      "text/plain": [
       "bool"
      ]
     },
     "execution_count": 38,
     "metadata": {},
     "output_type": "execute_result"
    }
   ],
   "source": [
    "#Boolean is another important type in Python. An object of type Boolean can take on one of two values: True or False:\n",
    "\n",
    "#Type of True\n",
    "type(True)\n",
    "\n",
    "#Type of False\n",
    "type(False)\n"
   ]
  },
  {
   "cell_type": "code",
   "execution_count": 40,
   "metadata": {},
   "outputs": [
    {
     "name": "stdout",
     "output_type": "stream",
     "text": [
      "True\n",
      "False\n"
     ]
    }
   ],
   "source": [
    "print(True)\n",
    "print(False)\n"
   ]
  },
  {
   "cell_type": "code",
   "execution_count": 43,
   "metadata": {},
   "outputs": [
    {
     "data": {
      "text/plain": [
       "1"
      ]
     },
     "execution_count": 43,
     "metadata": {},
     "output_type": "execute_result"
    }
   ],
   "source": [
    "# Convert True to int\n",
    "\n",
    "int(True)"
   ]
  },
  {
   "cell_type": "code",
   "execution_count": 44,
   "metadata": {},
   "outputs": [
    {
     "data": {
      "text/plain": [
       "True"
      ]
     },
     "execution_count": 44,
     "metadata": {},
     "output_type": "execute_result"
    }
   ],
   "source": [
    "# Convert 1 to boolean\n",
    "\n",
    "bool(1)"
   ]
  },
  {
   "cell_type": "code",
   "execution_count": 45,
   "metadata": {},
   "outputs": [
    {
     "data": {
      "text/plain": [
       "False"
      ]
     },
     "execution_count": 45,
     "metadata": {},
     "output_type": "execute_result"
    }
   ],
   "source": [
    "# Convert 0 to boolean\n",
    "\n",
    "bool(0)"
   ]
  },
  {
   "cell_type": "code",
   "execution_count": 46,
   "metadata": {},
   "outputs": [
    {
     "data": {
      "text/plain": [
       "1.0"
      ]
     },
     "execution_count": 46,
     "metadata": {},
     "output_type": "execute_result"
    }
   ],
   "source": [
    "# Convert True to float\n",
    "float(True)"
   ]
  },
  {
   "cell_type": "code",
   "execution_count": 48,
   "metadata": {},
   "outputs": [
    {
     "name": "stdout",
     "output_type": "stream",
     "text": [
      "3.0\n",
      "3\n"
     ]
    }
   ],
   "source": [
    "#Exercise: Types\n",
    "\n",
    "print(6/2)\n",
    "print(6//2)"
   ]
  },
  {
   "cell_type": "code",
   "execution_count": 53,
   "metadata": {},
   "outputs": [
    {
     "name": "stdout",
     "output_type": "stream",
     "text": [
      "160\n",
      "-10\n",
      "25\n",
      "4.166666666666667\n",
      "4\n"
     ]
    }
   ],
   "source": [
    "#Expressions and Variables\n",
    "\n",
    "#Addition operation expression\n",
    "print(43 + 60 + 16 + 41)\n",
    "#Subtraction operation expression\n",
    "print(50 - 60)\n",
    "#Multipliacation operation expression\n",
    "print(5*5)\n",
    "#Division operation expresion\n",
    "print(25/6)\n",
    "#Integer division expression\n",
    "print (25//6)"
   ]
  },
  {
   "cell_type": "code",
   "execution_count": 54,
   "metadata": {},
   "outputs": [
    {
     "name": "stdout",
     "output_type": "stream",
     "text": [
      "2\n",
      "150\n",
      "1920\n"
     ]
    }
   ],
   "source": [
    "#Excercise: Expression\n",
    "#Let's write an expression that calculates how many hours there are in 160 minutes:\n",
    "print(160//60)\n",
    "#Mathematical Expressions : PAMDAS \n",
    "print(30 + 2 * 60)\n",
    "print((30 + 2) * 60)"
   ]
  },
  {
   "cell_type": "code",
   "execution_count": 57,
   "metadata": {},
   "outputs": [
    {
     "name": "stdout",
     "output_type": "stream",
     "text": [
      "160\n",
      "2.6666666666666665\n",
      "2.6666666666666665\n"
     ]
    }
   ],
   "source": [
    "#Variables\n",
    "# Store value into variable\n",
    "\n",
    "x = 43 + 60 + 16 + 41\n",
    "print(x)\n",
    "\n",
    "# Use another variable to store the result of the operation between variable and value\n",
    "\n",
    "y = x / 60\n",
    "print(y)\n",
    "\n",
    "# Overwrite variable with new value\n",
    "\n",
    "x = x / 60\n",
    "print(x)"
   ]
  },
  {
   "cell_type": "code",
   "execution_count": 58,
   "metadata": {},
   "outputs": [
    {
     "name": "stdout",
     "output_type": "stream",
     "text": [
      "142\n",
      "2.3666666666666667\n",
      "2.3666666666666667\n"
     ]
    }
   ],
   "source": [
    "#It's a good practice to use meaningful variable names, so you and others can read the code and understand it more easily:\n",
    "\n",
    "\n",
    "total_min = 43 + 42 + 57 # Total length of albums in minutes\n",
    "print(total_min)\n",
    "total_hours = total_min / 60 # Total length of albums in hours \n",
    "total_hours\n",
    "print(total_hours)\n",
    "total_hours = total_min / 60 # Total length of albums in hours \n",
    "print(total_hours)"
   ]
  },
  {
   "cell_type": "code",
   "execution_count": 59,
   "metadata": {},
   "outputs": [
    {
     "name": "stdout",
     "output_type": "stream",
     "text": [
      "7\n",
      "10\n",
      "17\n"
     ]
    }
   ],
   "source": [
    "#Exercise: Expression and Variables in Python\n",
    "x = 3 + 2 * 2\n",
    "print(x)\n",
    "y = (3 + 2) * 2\n",
    "print(y)\n",
    "z = x + y\n",
    "print(z)\n"
   ]
  },
  {
   "cell_type": "code",
   "execution_count": 61,
   "metadata": {},
   "outputs": [
    {
     "name": "stdout",
     "output_type": "stream",
     "text": [
      "Hello!\n",
      "Michael Jackson\n"
     ]
    }
   ],
   "source": [
    "#What are Strings? \n",
    "\n",
    "#Standard and ingle quotations can characterize strings\n",
    "\"Michael Jackson\"\n",
    "'Michael Jackson'\n",
    "\n",
    "#A string can also be a cmbination of spaces and digits\n",
    "' 1 2 3 4 5 '\n",
    "\n",
    "#Also, it can be special characters\n",
    "'@#2_#]&*^%$'\n",
    "\n",
    "#Let's try\n",
    "print(\"Hello!\")\n",
    "\n",
    "# Assign string to variable\n",
    "\n",
    "Name = \"Michael Jackson\"\n",
    "print(Name)"
   ]
  },
  {
   "cell_type": "code",
   "execution_count": 68,
   "metadata": {},
   "outputs": [
    {
     "name": "stdout",
     "output_type": "stream",
     "text": [
      "M\n",
      "l\n",
      "o\n",
      "n\n",
      "M\n",
      "M\n",
      "15\n"
     ]
    }
   ],
   "source": [
    "#Indexing\n",
    "#Name = Micheal Jackson already\n",
    "#Print the first element of the string \n",
    "print(Name[0])\n",
    "#Now 6th element\n",
    "print(Name[6])\n",
    "#Now 13th\n",
    "print(Name[13])\n",
    "#Print last element in string\n",
    "print(Name[-1])\n",
    "\n",
    "#Print frist element in string\n",
    "print(Name[-15])\n",
    "print(Name[0])\n",
    "\n",
    "#Find the length of the string\n",
    "print(len(\"Michael Jackson\"))"
   ]
  },
  {
   "cell_type": "code",
   "execution_count": 72,
   "metadata": {},
   "outputs": [
    {
     "name": "stdout",
     "output_type": "stream",
     "text": [
      "Mich\n",
      "Jack\n",
      "McalJcsn\n",
      "Mca\n"
     ]
    }
   ],
   "source": [
    "#Slicing\n",
    "# Take the slice on variable Name with only index 0 to index 3\n",
    "\n",
    "print(Name[0:4])\n",
    "#Now 8 to 11\n",
    "print(Name[8:12])\n",
    "\n",
    "#Stride\n",
    "# Get every second element. The elments on index 1, 3, 5 ...\n",
    "\n",
    "print(Name[::2])\n",
    "\n",
    "# Get every second element in the range from index 0 to index 4\n",
    "\n",
    "print(Name[0:5:2])\n"
   ]
  },
  {
   "cell_type": "code",
   "execution_count": 74,
   "metadata": {},
   "outputs": [
    {
     "name": "stdout",
     "output_type": "stream",
     "text": [
      "Michael Jackson is the bestis the best\n",
      "Michael JacksonMichael JacksonMichael Jackson\n",
      "Michael Jackson is the best\n"
     ]
    }
   ],
   "source": [
    "#Concatenate Strings\n",
    "\n",
    "Statement = Name + \"is the best\"\n",
    "print(Statement)\n",
    "\n",
    "print(3 * \"Michael Jackson\")\n",
    "\n",
    "Name = \"Michael Jackson\"\n",
    "Name = Name + \" is the best\"\n",
    "print(Name)"
   ]
  },
  {
   "cell_type": "code",
   "execution_count": 78,
   "metadata": {},
   "outputs": [
    {
     "name": "stdout",
     "output_type": "stream",
     "text": [
      " Michael Jackson \n",
      " is the best\n",
      "Michael Jackson is the best\n",
      " Michael Jackson \t is the best\n",
      " Michael Jackson \\ is the best\n",
      " Michael Jackson \\ is the best\n"
     ]
    }
   ],
   "source": [
    "# New line escape sequence\n",
    "\n",
    "#\\n is for new line\n",
    "#\\t is for new tab\n",
    "\n",
    "print(\" Michael Jackson \\n is the best\")\n",
    "print(Name)\n",
    "\n",
    "# Tab escape sequence\n",
    "\n",
    "print(\" Michael Jackson \\t is the best\" )\n",
    "\n",
    "# Include back slash in string\n",
    "#If you want to place a back slash in your string, use a double back slash:\n",
    "    \n",
    "print(\" Michael Jackson \\\\ is the best\" )\n",
    "\n",
    "# r will tell python that string will be display as raw string\n",
    "#We can also place an \"r\" before the string to display the backslash:\n",
    "print(r\" Michael Jackson \\ is the best\" )"
   ]
  },
  {
   "cell_type": "code",
   "execution_count": 82,
   "metadata": {},
   "outputs": [
    {
     "name": "stdout",
     "output_type": "stream",
     "text": [
      "before upper: Thriller is the sixth studio album\n",
      "After upper: THRILLER IS THE SIXTH STUDIO ALBUM\n",
      "THRILLER IS THE SIXTH STUDIO ALBUM\n",
      "Janet Jackson is the best\n"
     ]
    }
   ],
   "source": [
    "#String Operations\n",
    "# Convert all the characters in string to upper case\n",
    "\n",
    "A = \"Thriller is the sixth studio album\"\n",
    "print(\"before upper:\", A)\n",
    "B = A.upper()\n",
    "print(\"After upper:\", B)\n",
    "print(B)\n",
    "\n",
    "# Replace the old substring with the new target substring is the segment has been found in the string\n",
    "\n",
    "A = \"Michael Jackson is the best\"\n",
    "B = A.replace('Michael', 'Janet')\n",
    "print(B)"
   ]
  },
  {
   "cell_type": "code",
   "execution_count": 83,
   "metadata": {},
   "outputs": [
    {
     "data": {
      "text/plain": [
       "5"
      ]
     },
     "execution_count": 83,
     "metadata": {},
     "output_type": "execute_result"
    }
   ],
   "source": [
    "# Find the substring in the string. Only the index of the first elment of substring in string will be the output\n",
    "\n",
    "Name = \"Michael Jackson\"\n",
    "Name.find('el')"
   ]
  },
  {
   "cell_type": "code",
   "execution_count": 85,
   "metadata": {},
   "outputs": [
    {
     "name": "stdout",
     "output_type": "stream",
     "text": [
      "8\n",
      "-1\n"
     ]
    }
   ],
   "source": [
    "# Find the substring in the string.\n",
    "\n",
    "print(Name.find('Jack'))\n",
    "\n",
    "# If cannot find the substring in the string\n",
    "\n",
    "print(Name.find('Jasdfasdasdf'))"
   ]
  },
  {
   "cell_type": "code",
   "execution_count": 5,
   "metadata": {},
   "outputs": [
    {
     "name": "stdout",
     "output_type": "stream",
     "text": [
      "1\n",
      "2\n",
      "12\n",
      "ABC\n",
      "correct\n",
      "YOU ARE WRONG\n",
      "Mary had a little lamb Little lamb, little lamb Mary had a little lamb Its fleece was white as snow And everywhere that Mary went Mary went, Mary went Everywhere that Mary went The lamb was sure to go\n",
      "Bob had a little lamb Little lamb, little lamb Bob had a little lamb Its fleece was white as snow And everywhere that Bob went Bob went, Bob went Everywhere that Bob went The lamb was sure to go\n"
     ]
    }
   ],
   "source": [
    "# Quiz on Strings\n",
    "\n",
    "# Write your code below and press Shift+Enter to execute \n",
    "\n",
    "A = \"1\"\n",
    "print(A)\n",
    "\n",
    "# Write your code below and press Shift+Enter to execute\n",
    "\n",
    "B = \"2\"\n",
    "print(B)\n",
    "\n",
    "\n",
    "# Write your code below and press Shift+Enter to execute \n",
    "\n",
    "C = A + B\n",
    "print(C)\n",
    "\n",
    "\n",
    "# Write your code below and press Shift+Enter to execute\n",
    "\n",
    "D = \"ABCDEFG\"\n",
    "print(D[:3])\n",
    "\n",
    "# Write your code below and press Shift+Enter to execute\n",
    "\n",
    "E = 'clocrkr1e1c1t'\n",
    "print(E[::2])\n",
    "\n",
    "# Write your code below and press Shift+Enter to execute\n",
    "\n",
    "F = \"You are wrong\"\n",
    "\n",
    "F = F.upper()\n",
    "\n",
    "print(F)\n",
    "\n",
    "# Write your code below and press Shift+Enter to execute\n",
    "\n",
    "G = \"Mary had a little lamb Little lamb, little lamb Mary had a little lamb \\\n",
    "Its fleece was white as snow And everywhere that Mary went Mary went, Mary went \\\n",
    "Everywhere that Mary went The lamb was sure to go\"\n",
    "\n",
    "G.find('snow')\n",
    "              \n",
    "print(G)\n",
    "\n",
    "G = G.replace(\"Mary\", \"Bob\")\n",
    "print(G)"
   ]
  },
  {
   "cell_type": "code",
   "execution_count": null,
   "metadata": {},
   "outputs": [],
   "source": []
  },
  {
   "cell_type": "code",
   "execution_count": null,
   "metadata": {},
   "outputs": [],
   "source": [
    "# TUPLES\n",
    "\n",
    "#In Python, there are different data types: string, integer and float. These data types can all be contained in a tuple as follows:"
   ]
  },
  {
   "cell_type": "code",
   "execution_count": 6,
   "metadata": {},
   "outputs": [
    {
     "name": "stdout",
     "output_type": "stream",
     "text": [
      "('disco', 10, 1.2)\n",
      "<class 'tuple'>\n"
     ]
    }
   ],
   "source": [
    "# Create your first tuple\n",
    "\n",
    "tuple1 = (\"disco\",10,1.2 )\n",
    "print(tuple1)\n",
    "\n",
    "# Print the type of the tuple you created\n",
    "\n",
    "print(type(tuple1))"
   ]
  },
  {
   "cell_type": "code",
   "execution_count": 7,
   "metadata": {},
   "outputs": [
    {
     "name": "stdout",
     "output_type": "stream",
     "text": [
      "disco\n",
      "10\n",
      "1.2\n",
      "<class 'str'>\n",
      "<class 'int'>\n",
      "<class 'float'>\n",
      "1.2\n",
      "10\n",
      "disco\n",
      "('disco', 10, 1.2, 'hard rock', 10)\n"
     ]
    }
   ],
   "source": [
    "# Print the variable on each index\n",
    "\n",
    "print(tuple1[0])\n",
    "print(tuple1[1])\n",
    "print(tuple1[2])\n",
    "\n",
    "# Print the type of value on each index\n",
    "\n",
    "print(type(tuple1[0]))\n",
    "print(type(tuple1[1]))\n",
    "print(type(tuple1[2]))\n",
    "\n",
    "# Use negative index to get the value of the last element\n",
    "\n",
    "print(tuple1[-1])\n",
    "\n",
    "# Use negative index to get the value of the second last element\n",
    "\n",
    "print(tuple1[-2])\n",
    "\n",
    "# Use negative index to get the value of the third last element\n",
    "\n",
    "print(tuple1[-3])\n",
    "\n",
    "# Concatenate two tuples\n",
    "\n",
    "tuple2 = tuple1 + (\"hard rock\", 10)\n",
    "print(tuple2)"
   ]
  },
  {
   "cell_type": "code",
   "execution_count": 10,
   "metadata": {},
   "outputs": [
    {
     "name": "stdout",
     "output_type": "stream",
     "text": [
      "('disco', 10, 1.2)\n",
      "('hard rock', 10)\n",
      "5\n"
     ]
    }
   ],
   "source": [
    "#Slicing\n",
    "# Slice from index 0 to index 2\n",
    "\n",
    "print(tuple2[0:3])\n",
    "\n",
    "# Slice from index 3 to index 4\n",
    "\n",
    "print(tuple2[3:5])\n",
    "\n",
    "# Get the length of tuple\n",
    "\n",
    "print(len(tuple2))\n"
   ]
  },
  {
   "cell_type": "code",
   "execution_count": 11,
   "metadata": {},
   "outputs": [
    {
     "name": "stdout",
     "output_type": "stream",
     "text": [
      "(0, 9, 6, 5, 10, 8, 9, 6, 2)\n",
      "[0, 2, 5, 6, 6, 8, 9, 9, 10]\n",
      "(1, 2, ('pop', 'rock'), (3, 4), ('disco', (1, 2)))\n",
      "Element 0 of Tuple:  1\n",
      "Element 1 of Tuple:  2\n",
      "Element 2 of Tuple:  ('pop', 'rock')\n",
      "Element 3 of Tuple:  (3, 4)\n",
      "Element 4 of Tuple:  ('disco', (1, 2))\n",
      "Element 2, 0 of Tuple:  pop\n",
      "Element 2, 1 of Tuple:  rock\n",
      "Element 3, 0 of Tuple:  3\n",
      "Element 3, 1 of Tuple:  4\n",
      "Element 4, 0 of Tuple:  disco\n",
      "Element 4, 1 of Tuple:  (1, 2)\n",
      "r\n",
      "o\n",
      "1\n",
      "2\n"
     ]
    }
   ],
   "source": [
    "#Sorting\n",
    "\n",
    "# A sample tuple\n",
    "\n",
    "Ratings = (0, 9, 6, 5, 10, 8, 9, 6, 2)\n",
    "print(Ratings)\n",
    "\n",
    "# Sort the tuple\n",
    "\n",
    "RatingsSorted = sorted(Ratings)\n",
    "print(RatingsSorted)\n",
    "\n",
    "# Crepate a nest tuple\n",
    "\n",
    "NestedT =(1, 2, (\"pop\", \"rock\") ,(3,4),(\"disco\",(1,2)))\n",
    "print(NestedT)\n",
    "\n",
    "\n",
    "# Print element on each index\n",
    "\n",
    "print(\"Element 0 of Tuple: \", NestedT[0])\n",
    "print(\"Element 1 of Tuple: \", NestedT[1])\n",
    "print(\"Element 2 of Tuple: \", NestedT[2])\n",
    "print(\"Element 3 of Tuple: \", NestedT[3])\n",
    "print(\"Element 4 of Tuple: \", NestedT[4])\n",
    "\n",
    "\n",
    "# Print element on each index, including nest indexes\n",
    "\n",
    "print(\"Element 2, 0 of Tuple: \",   NestedT[2][0])\n",
    "print(\"Element 2, 1 of Tuple: \",   NestedT[2][1])\n",
    "print(\"Element 3, 0 of Tuple: \",   NestedT[3][0])\n",
    "print(\"Element 3, 1 of Tuple: \",   NestedT[3][1])\n",
    "print(\"Element 4, 0 of Tuple: \",   NestedT[4][0])\n",
    "print(\"Element 4, 1 of Tuple: \",   NestedT[4][1])\n",
    "\n",
    "# Print the first element in the second nested tuples\n",
    "\n",
    "print(NestedT[2][1][0])\n",
    "\n",
    "# Print the second element in the second nested tuples\n",
    "\n",
    "print(NestedT[2][1][1])\n",
    "\n",
    "# Print the first element in the second nested tuples\n",
    "\n",
    "print(NestedT[4][1][0])\n",
    "\n",
    "# Print the second element in the second nested tuples\n",
    "\n",
    "print(NestedT[4][1][1])"
   ]
  },
  {
   "cell_type": "code",
   "execution_count": 13,
   "metadata": {},
   "outputs": [
    {
     "name": "stdout",
     "output_type": "stream",
     "text": [
      "('pop', 'rock', 'soul', 'hard rock', 'soft rock', 'R&B', 'progressive rock', 'disco')\n",
      "hard rock\n"
     ]
    }
   ],
   "source": [
    "# Quiz on Tuples\n",
    "\n",
    "# sample tuple\n",
    "\n",
    "genres_tuple = (\"pop\", \"rock\", \"soul\", \"hard rock\", \"soft rock\", \\\n",
    "                \"R&B\", \"progressive rock\", \"disco\") \n",
    "print(genres_tuple)\n",
    "\n",
    "#Write your code below and press Shift+Enterz to execute\n",
    "\n",
    "print(genres_tuple[3])"
   ]
  },
  {
   "cell_type": "code",
   "execution_count": 15,
   "metadata": {},
   "outputs": [
    {
     "name": "stdout",
     "output_type": "stream",
     "text": [
      "('hard rock', 'soft rock', 'R&B')\n",
      "('pop', 'rock')\n",
      "7\n",
      "[-5, -3, 1]\n"
     ]
    }
   ],
   "source": [
    "\n",
    "# Write your code below and press Shift+Enter \n",
    "\n",
    "print(genres_tuple[3:6])\n",
    "\n",
    "# Write your code below and press Shift+Enter to execute\n",
    "\n",
    "print(genres_tuple[0:2])\n",
    "\n",
    "# Write your code below and press Shift+Enter to execute\n",
    "\n",
    "print(genres_tuple.index(\"disco\"))\n",
    "\n",
    "# Write your code below and press Shift+Enter to execute\n",
    "\n",
    "C_tuple = (-5,1,-3)\n",
    "C_list = sorted(C_tuple)\n",
    "print(C_list)"
   ]
  },
  {
   "cell_type": "raw",
   "metadata": {},
   "source": []
  },
  {
   "cell_type": "code",
   "execution_count": 16,
   "metadata": {},
   "outputs": [
    {
     "name": "stdout",
     "output_type": "stream",
     "text": [
      "['Michael Jackson', 10.1, 1982]\n"
     ]
    }
   ],
   "source": [
    "# LISTS\n",
    "\n",
    "# Create a list\n",
    "\n",
    "L = [\"Michael Jackson\", 10.1, 1982]\n",
    "\n",
    "print(L)"
   ]
  },
  {
   "cell_type": "code",
   "execution_count": 18,
   "metadata": {},
   "outputs": [
    {
     "name": "stdout",
     "output_type": "stream",
     "text": [
      "Michael Jackson\n",
      "Michael Jackson\n",
      "10.1\n",
      "10.1\n",
      "1982\n",
      "1982\n"
     ]
    }
   ],
   "source": [
    "print(L[0])\n",
    "print(L[-3])\n",
    "\n",
    "print(L[1])\n",
    "print(L[-2])\n",
    "\n",
    "print(L[2])\n",
    "print(L[-1])"
   ]
  },
  {
   "cell_type": "code",
   "execution_count": 19,
   "metadata": {},
   "outputs": [
    {
     "data": {
      "text/plain": [
       "['Michael Jackson', 10.1, 1982, [1, 2], ('A', 1)]"
      ]
     },
     "execution_count": 19,
     "metadata": {},
     "output_type": "execute_result"
    }
   ],
   "source": [
    "# Sample List\n",
    "\n",
    "[\"Michael Jackson\", 10.1, 1982, [1, 2], (\"A\", 1)]"
   ]
  },
  {
   "cell_type": "code",
   "execution_count": 20,
   "metadata": {},
   "outputs": [
    {
     "name": "stdout",
     "output_type": "stream",
     "text": [
      "['MJ', 1]\n"
     ]
    }
   ],
   "source": [
    "# Sample List\n",
    "\n",
    "L = [\"Michael Jackson\", 10.1,1982,\"MJ\",1]\n",
    "L\n",
    "\n",
    "# List slicing\n",
    "\n",
    "print(L[3:5])"
   ]
  },
  {
   "cell_type": "code",
   "execution_count": 21,
   "metadata": {},
   "outputs": [
    {
     "data": {
      "text/plain": [
       "['Michael Jackson', 10.2, 'pop', 10]"
      ]
     },
     "execution_count": 21,
     "metadata": {},
     "output_type": "execute_result"
    }
   ],
   "source": [
    "# Use extend to add elements to list\n",
    "\n",
    "L = [ \"Michael Jackson\", 10.2]\n",
    "L.extend(['pop', 10])\n",
    "L"
   ]
  },
  {
   "cell_type": "code",
   "execution_count": 22,
   "metadata": {},
   "outputs": [
    {
     "data": {
      "text/plain": [
       "['Michael Jackson', 10.2, ['pop', 10]]"
      ]
     },
     "execution_count": 22,
     "metadata": {},
     "output_type": "execute_result"
    }
   ],
   "source": [
    "# Use append to add elements to list\n",
    "\n",
    "L = [ \"Michael Jackson\", 10.2]\n",
    "L.append(['pop', 10])\n",
    "L"
   ]
  },
  {
   "cell_type": "code",
   "execution_count": 25,
   "metadata": {},
   "outputs": [
    {
     "name": "stdout",
     "output_type": "stream",
     "text": [
      "Before change: ['disco', 10, 1.2]\n",
      "After change: ['hard rock', 10, 1.2]\n",
      "Before change: ['hard rock', 10, 1.2]\n",
      "After change: [10, 1.2]\n",
      "['hard', 'rock']\n",
      "['A', 'B', 'C', 'D']\n",
      "['ABCD']\n"
     ]
    }
   ],
   "source": [
    "# Change the element based on the index\n",
    "\n",
    "A = [\"disco\", 10, 1.2]\n",
    "print('Before change:', A)\n",
    "A[0] = 'hard rock'\n",
    "print('After change:', A)\n",
    "\n",
    "# Delete the element based on the index\n",
    "\n",
    "print('Before change:', A)\n",
    "del(A[0])\n",
    "print('After change:', A)\n",
    "\n",
    "# Split the string, default is by space\n",
    "\n",
    "print('hard rock'.split())\n",
    "\n",
    "# Split the string by comma\n",
    "\n",
    "print('A,B,C,D'.split(','))\n",
    "\n",
    "# Split the string by comma\n",
    "\n",
    "print('ABCD'.split(','))"
   ]
  },
  {
   "cell_type": "code",
   "execution_count": 28,
   "metadata": {},
   "outputs": [
    {
     "name": "stdout",
     "output_type": "stream",
     "text": [
      "A: ['hard rock', 10, 1.2]\n",
      "B: ['hard rock', 10, 1.2]\n",
      "B[0]: hard rock\n",
      "B[0]: banana\n",
      "['banana', 10, 1.2]\n",
      "['banana', 10, 1.2]\n"
     ]
    }
   ],
   "source": [
    "# Copy (copy by reference) the list A\n",
    "\n",
    "A = [\"hard rock\", 10, 1.2]\n",
    "B = A\n",
    "print('A:', A)\n",
    "print('B:', B)\n",
    "\n",
    "# Examine the copy by reference\n",
    "\n",
    "print('B[0]:', B[0])\n",
    "A[0] = \"banana\"\n",
    "print('B[0]:', B[0])\n",
    "print(A)\n",
    "print(B)"
   ]
  },
  {
   "cell_type": "code",
   "execution_count": 27,
   "metadata": {},
   "outputs": [
    {
     "data": {
      "text/plain": [
       "['banana', 10, 1.2]"
      ]
     },
     "execution_count": 27,
     "metadata": {},
     "output_type": "execute_result"
    }
   ],
   "source": [
    "# Clone (clone by value) the list A\n",
    "\n",
    "B = A[:]\n",
    "B"
   ]
  },
  {
   "cell_type": "code",
   "execution_count": 29,
   "metadata": {},
   "outputs": [
    {
     "name": "stdout",
     "output_type": "stream",
     "text": [
      "B[0]: banana\n",
      "B[0]: hard rock\n"
     ]
    }
   ],
   "source": [
    "print('B[0]:', B[0])\n",
    "A[0] = \"hard rock\"\n",
    "print('B[0]:', B[0])"
   ]
  },
  {
   "cell_type": "code",
   "execution_count": 30,
   "metadata": {},
   "outputs": [
    {
     "name": "stdout",
     "output_type": "stream",
     "text": [
      "[1, 'hello', [1, 2, 3], True]\n",
      "hello\n",
      "hello\n",
      "[1, 2, 3]\n",
      "True\n",
      "['hello', [1, 2, 3], True]\n",
      "[1, 'a', 2, 1, 'd']\n"
     ]
    }
   ],
   "source": [
    "# Write your code below and press Shift+Enter to execute\n",
    "\n",
    "a_list = [1, \"hello\", [1,2,3], True]\n",
    "print(a_list)\n",
    "\n",
    "# Write your code below and press Shift+Enter to execute\n",
    "\n",
    "print(a_list[1])\n",
    "\n",
    "# Write your code below and press Shift+Enter to execute\n",
    "\n",
    "print(a_list[1])\n",
    "\n",
    "print(a_list[2])\n",
    "\n",
    "print(a_list[3])\n",
    "\n",
    "print(a_list[1:4])\n",
    "\n",
    "# Write your code below and press Shift+Enter to execute\n",
    "\n",
    "A = [1, 'a'] \n",
    "B = [2, 1, 'd']\n",
    "print(A + B)"
   ]
  },
  {
   "cell_type": "code",
   "execution_count": 31,
   "metadata": {},
   "outputs": [
    {
     "name": "stdout",
     "output_type": "stream",
     "text": [
      "{'rock', 'R&B', 'pop', 'disco', 'soul', 'hard rock'}\n",
      "{65, '00:42:19', 'Michael Jackson', 10.0, 46.0, None, 'Thriller', 'Pop, Rock, R&B', '30-Nov-82', 1982}\n"
     ]
    }
   ],
   "source": [
    "# SETS\n",
    "\n",
    "# Create a set\n",
    "\n",
    "set1 = {\"pop\", \"rock\", \"soul\", \"hard rock\", \"rock\", \"R&B\", \"rock\", \"disco\"}\n",
    "print(set1)\n",
    "\n",
    "# Convert list to set\n",
    "\n",
    "album_list = [ \"Michael Jackson\", \"Thriller\", 1982, \"00:42:19\", \\\n",
    "              \"Pop, Rock, R&B\", 46.0, 65, \"30-Nov-82\", None, 10.0]\n",
    "album_set = set(album_list)             \n",
    "print(album_set)"
   ]
  },
  {
   "cell_type": "code",
   "execution_count": 32,
   "metadata": {},
   "outputs": [
    {
     "data": {
      "text/plain": [
       "{'00:42:19',\n",
       " 10.0,\n",
       " 1982,\n",
       " '30-Nov-82',\n",
       " 46.0,\n",
       " 65,\n",
       " 'Michael Jackson',\n",
       " None,\n",
       " 'Pop, Rock, R&B',\n",
       " 'Thriller'}"
      ]
     },
     "execution_count": 32,
     "metadata": {},
     "output_type": "execute_result"
    }
   ],
   "source": [
    "# Convert list to set\n",
    "\n",
    "album_list = [ \"Michael Jackson\", \"Thriller\", 1982, \"00:42:19\", \\\n",
    "              \"Pop, Rock, R&B\", 46.0, 65, \"30-Nov-82\", None, 10.0]\n",
    "album_set = set(album_list)             \n",
    "album_set"
   ]
  },
  {
   "cell_type": "code",
   "execution_count": 34,
   "metadata": {},
   "outputs": [
    {
     "name": "stdout",
     "output_type": "stream",
     "text": [
      "{'Thriller', 'AC/DC', 'Back in Black'}\n",
      "{'Thriller', 'NSYNC', 'AC/DC', 'Back in Black'}\n",
      "{'Thriller', 'NSYNC', 'AC/DC', 'Back in Black'}\n",
      "{'Thriller', 'AC/DC', 'Back in Black'}\n",
      "True\n"
     ]
    }
   ],
   "source": [
    "# Sample set\n",
    "\n",
    "A = set([\"Thriller\", \"Back in Black\", \"AC/DC\"])\n",
    "print(A)\n",
    "\n",
    "# Add element to set\n",
    "\n",
    "A.add(\"NSYNC\")\n",
    "print(A)\n",
    "\n",
    "# Try to add duplicate element to the set\n",
    "\n",
    "A.add(\"NSYNC\")\n",
    "print(A)\n",
    "\n",
    "# Remove the element from set\n",
    "\n",
    "A.remove(\"NSYNC\")\n",
    "print(A)\n",
    "\n",
    "# Verify if the element is in the set\n",
    "\n",
    "print(\"AC/DC\" in A)"
   ]
  },
  {
   "cell_type": "code",
   "execution_count": 35,
   "metadata": {},
   "outputs": [
    {
     "data": {
      "text/plain": [
       "{'R&B', 'disco', 'hard rock', 'pop', 'rock', 'soul'}"
      ]
     },
     "execution_count": 35,
     "metadata": {},
     "output_type": "execute_result"
    }
   ],
   "source": [
    "# Create a set\n",
    "\n",
    "set1 = {\"pop\", \"rock\", \"soul\", \"hard rock\", \"rock\", \"R&B\", \"rock\", \"disco\"}\n",
    "set1\n",
    "\n"
   ]
  },
  {
   "cell_type": "code",
   "execution_count": 36,
   "metadata": {},
   "outputs": [
    {
     "data": {
      "text/plain": [
       "{'00:42:19',\n",
       " 10.0,\n",
       " 1982,\n",
       " '30-Nov-82',\n",
       " 46.0,\n",
       " 65,\n",
       " 'Michael Jackson',\n",
       " None,\n",
       " 'Pop, Rock, R&B',\n",
       " 'Thriller'}"
      ]
     },
     "execution_count": 36,
     "metadata": {},
     "output_type": "execute_result"
    }
   ],
   "source": [
    "# Convert list to set\n",
    "\n",
    "album_list = [ \"Michael Jackson\", \"Thriller\", 1982, \"00:42:19\", \\\n",
    "              \"Pop, Rock, R&B\", 46.0, 65, \"30-Nov-82\", None, 10.0]\n",
    "album_set = set(album_list)             \n",
    "album_set"
   ]
  },
  {
   "cell_type": "code",
   "execution_count": 37,
   "metadata": {},
   "outputs": [
    {
     "data": {
      "text/plain": [
       "{'R&B',\n",
       " 'disco',\n",
       " 'folk rock',\n",
       " 'hard rock',\n",
       " 'pop',\n",
       " 'progressive rock',\n",
       " 'rock',\n",
       " 'soft rock',\n",
       " 'soul'}"
      ]
     },
     "execution_count": 37,
     "metadata": {},
     "output_type": "execute_result"
    }
   ],
   "source": [
    "# Convert list to set\n",
    "\n",
    "music_genres = set([\"pop\", \"pop\", \"rock\", \"folk rock\", \"hard rock\", \"soul\", \\\n",
    "                    \"progressive rock\", \"soft rock\", \"R&B\", \"disco\"])\n",
    "music_genres"
   ]
  },
  {
   "cell_type": "code",
   "execution_count": 39,
   "metadata": {},
   "outputs": [
    {
     "name": "stdout",
     "output_type": "stream",
     "text": [
      "{'Thriller', 'AC/DC', 'Back in Black'}\n",
      "{'Thriller', 'NSYNC', 'AC/DC', 'Back in Black'}\n",
      "{'Thriller', 'NSYNC', 'AC/DC', 'Back in Black'}\n",
      "{'Thriller', 'AC/DC', 'Back in Black'}\n",
      "True\n"
     ]
    }
   ],
   "source": [
    "# Sample set\n",
    "\n",
    "A = set([\"Thriller\", \"Back in Black\", \"AC/DC\"])\n",
    "print(A)\n",
    "\n",
    "# Add element to set\n",
    "\n",
    "A.add(\"NSYNC\")\n",
    "print(A)\n",
    "\n",
    "# Try to add duplicate element to the set\n",
    "\n",
    "A.add(\"NSYNC\")\n",
    "print(A)\n",
    "\n",
    "# Remove the element from set\n",
    "\n",
    "A.remove(\"NSYNC\")\n",
    "print(A)\n",
    "\n",
    "# Verify if the element is in the set\n",
    "\n",
    "print(\"AC/DC\" in A)"
   ]
  },
  {
   "cell_type": "code",
   "execution_count": 5,
   "metadata": {},
   "outputs": [
    {
     "name": "stdout",
     "output_type": "stream",
     "text": [
      "{'Thriller', 'Back in Black', 'AC/DC'} {'Back in Black', 'The Dark Side of the Moon', 'AC/DC'}\n",
      "{'Back in Black', 'AC/DC'}\n",
      "{'Thriller'}\n",
      "{'The Dark Side of the Moon'}\n",
      "{'Back in Black', 'AC/DC'}\n",
      "{'The Dark Side of the Moon', 'AC/DC', 'Thriller', 'Back in Black'}\n",
      "False\n",
      "False\n",
      "True\n",
      "True\n"
     ]
    }
   ],
   "source": [
    "# Sample Sets\n",
    "\n",
    "album_set1 = set([\"Thriller\", 'AC/DC', 'Back in Black'])\n",
    "album_set2 = set([ \"AC/DC\", \"Back in Black\", \"The Dark Side of the Moon\"])\n",
    "\n",
    "# Print two sets\n",
    "\n",
    "print(album_set1, album_set2)\n",
    "\n",
    "# Find the intersections\n",
    "\n",
    "intersection = album_set1 & album_set2\n",
    "print(intersection)\n",
    "\n",
    "# Find the difference in set1 but not set2\n",
    "\n",
    "print(album_set1.difference(album_set2))  \n",
    "\n",
    "print(album_set2.difference(album_set1))  \n",
    "\n",
    "#Use intersection method to find the intersection of album_list1 and album_list2\n",
    "\n",
    "print(album_set1.intersection(album_set2))  \n",
    "\n",
    "# Find the union of two sets\n",
    "\n",
    "print(album_set1.union(album_set2))\n",
    "\n",
    "# Check if superset\n",
    "\n",
    "print(set(album_set1).issuperset(album_set2))   \n",
    "\n",
    "#Check if subset\n",
    "\n",
    "print(set(album_set2).issubset(album_set1))   \n",
    "\n",
    "# Check if subset\n",
    "\n",
    "print(set({\"Back in Black\", \"AC/DC\"}).issubset(album_set1)) \n",
    "\n",
    "# Check if superset\n",
    "\n",
    "print(album_set1.issuperset({\"Back in Black\", \"AC/DC\"}))   "
   ]
  },
  {
   "cell_type": "code",
   "execution_count": 13,
   "metadata": {},
   "outputs": [
    {
     "name": "stdout",
     "output_type": "stream",
     "text": [
      "the sum of A is: 6\n",
      "the sum of B is: 6\n"
     ]
    },
    {
     "ename": "AttributeError",
     "evalue": "'list' object has no attribute 'union'",
     "output_type": "error",
     "traceback": [
      "\u001b[1;31m---------------------------------------------------------------------------\u001b[0m",
      "\u001b[1;31mAttributeError\u001b[0m                            Traceback (most recent call last)",
      "\u001b[1;32m<ipython-input-13-d2f54e8934c3>\u001b[0m in \u001b[0;36m<module>\u001b[1;34m\u001b[0m\n\u001b[0;32m     16\u001b[0m \u001b[0malbum_set1\u001b[0m \u001b[1;33m=\u001b[0m \u001b[0mset\u001b[0m \u001b[1;33m=\u001b[0m \u001b[1;33m(\u001b[0m\u001b[1;33m[\u001b[0m\u001b[1;34m\"Thriller\"\u001b[0m\u001b[1;33m,\u001b[0m \u001b[1;34m'AC/DC'\u001b[0m\u001b[1;33m,\u001b[0m \u001b[1;34m'Back in Black'\u001b[0m\u001b[1;33m]\u001b[0m\u001b[1;33m)\u001b[0m\u001b[1;33m\u001b[0m\u001b[1;33m\u001b[0m\u001b[0m\n\u001b[0;32m     17\u001b[0m \u001b[0malbum_set2\u001b[0m \u001b[1;33m=\u001b[0m \u001b[0mset\u001b[0m \u001b[1;33m=\u001b[0m \u001b[1;33m(\u001b[0m\u001b[1;33m[\u001b[0m \u001b[1;34m\"AC/DC\"\u001b[0m\u001b[1;33m,\u001b[0m \u001b[1;34m\"Back in Black\"\u001b[0m\u001b[1;33m,\u001b[0m \u001b[1;34m\"The Dark Side of the Moon\"\u001b[0m\u001b[1;33m]\u001b[0m\u001b[1;33m)\u001b[0m\u001b[1;33m\u001b[0m\u001b[1;33m\u001b[0m\u001b[0m\n\u001b[1;32m---> 18\u001b[1;33m \u001b[0malbum_set3\u001b[0m \u001b[1;33m=\u001b[0m \u001b[0mset\u001b[0m \u001b[1;33m=\u001b[0m \u001b[0malbum_set1\u001b[0m\u001b[1;33m.\u001b[0m\u001b[0munion\u001b[0m\u001b[1;33m(\u001b[0m\u001b[0malbum_set2\u001b[0m\u001b[1;33m)\u001b[0m\u001b[1;33m\u001b[0m\u001b[1;33m\u001b[0m\u001b[0m\n\u001b[0m\u001b[0;32m     19\u001b[0m \u001b[0mprint\u001b[0m\u001b[1;33m(\u001b[0m\u001b[0malbum_set3\u001b[0m\u001b[1;33m)\u001b[0m\u001b[1;33m\u001b[0m\u001b[1;33m\u001b[0m\u001b[0m\n\u001b[0;32m     20\u001b[0m \u001b[1;33m\u001b[0m\u001b[0m\n",
      "\u001b[1;31mAttributeError\u001b[0m: 'list' object has no attribute 'union'"
     ]
    }
   ],
   "source": [
    "\n",
    "#Quiz on Sets\n",
    "\n",
    "# Write your code below and press Shift+Enter to execute\n",
    "\n",
    "set = (['rap','house','electronic music', 'rap'])\n",
    "# Write your code below and press Shift+Enter to execute\n",
    "\n",
    "A = [1, 2, 2, 1]  \n",
    "B = set = ([1, 2, 2, 1])\n",
    "print(\"the sum of A is:\", sum(A))\n",
    "print(\"the sum of B is:\", sum(B))\n",
    "\n",
    "# Write your code below and press Shift+Enter to execute\n",
    "\n",
    "album_set1 = set = ([\"Thriller\", 'AC/DC', 'Back in Black'])\n",
    "album_set2 = set = ([ \"AC/DC\", \"Back in Black\", \"The Dark Side of the Moon\"])\n",
    "album_set3 = set = album_set1.union(album_set2)\n",
    "print(album_set3)\n",
    "\n",
    "print(album_set1.issubset(album_set3))\n"
   ]
  },
  {
   "cell_type": "code",
   "execution_count": 14,
   "metadata": {},
   "outputs": [
    {
     "name": "stdout",
     "output_type": "stream",
     "text": [
      "{'key1': 1, 'key2': '2', 'key3': [3, 3, 3], 'key4': (4, 4, 4), 'key5': 5, (0, 1): 6}\n",
      "1\n",
      "6\n",
      "{'Thriller': '1982', 'Back in Black': '1980', 'The Dark Side of the Moon': '1973', 'The Bodyguard': '1992', 'Bat Out of Hell': '1977', 'Their Greatest Hits (1971-1975)': '1976', 'Saturday Night Fever': '1977', 'Rumours': '1977'}\n",
      "1982\n",
      "1992\n",
      "dict_keys(['Thriller', 'Back in Black', 'The Dark Side of the Moon', 'The Bodyguard', 'Bat Out of Hell', 'Their Greatest Hits (1971-1975)', 'Saturday Night Fever', 'Rumours'])\n",
      "dict_values(['1982', '1980', '1973', '1992', '1977', '1976', '1977', '1977'])\n",
      "{'Thriller': '1982', 'Back in Black': '1980', 'The Dark Side of the Moon': '1973', 'The Bodyguard': '1992', 'Bat Out of Hell': '1977', 'Their Greatest Hits (1971-1975)': '1976', 'Saturday Night Fever': '1977', 'Rumours': '1977', 'Graduation': '2007'}\n",
      "{'Back in Black': '1980', 'The Dark Side of the Moon': '1973', 'The Bodyguard': '1992', 'Bat Out of Hell': '1977', 'Their Greatest Hits (1971-1975)': '1976', 'Saturday Night Fever': '1977', 'Rumours': '1977'}\n",
      "True\n"
     ]
    }
   ],
   "source": [
    "#DICTIONARIES\n",
    "\n",
    "# Create the dictionary\n",
    "\n",
    "Dict = {\"key1\": 1, \"key2\": \"2\", \"key3\": [3, 3, 3], \"key4\": (4, 4, 4), ('key5'): 5, (0, 1): 6}\n",
    "print(Dict)\n",
    "\n",
    "# Access to the value by the key\n",
    "\n",
    "print(Dict[\"key1\"])\n",
    "\n",
    "# Access to the value by the key\n",
    "\n",
    "print(Dict[(0, 1)])\n",
    "\n",
    "# Create a sample dictionary\n",
    "\n",
    "release_year_dict = {\"Thriller\": \"1982\", \"Back in Black\": \"1980\", \\\n",
    "                    \"The Dark Side of the Moon\": \"1973\", \"The Bodyguard\": \"1992\", \\\n",
    "                    \"Bat Out of Hell\": \"1977\", \"Their Greatest Hits (1971-1975)\": \"1976\", \\\n",
    "                    \"Saturday Night Fever\": \"1977\", \"Rumours\": \"1977\"}\n",
    "print(release_year_dict)\n",
    "\n",
    "# Get value by keys\n",
    "\n",
    "print(release_year_dict['Thriller'])\n",
    "\n",
    "# Get value by key\n",
    "\n",
    "print(release_year_dict['The Bodyguard']) \n",
    "\n",
    "# Get all the keys in dictionary\n",
    "\n",
    "print(release_year_dict.keys())\n",
    "\n",
    "print(release_year_dict.values()) \n",
    "\n",
    "# Append value with key into dictionary\n",
    "# Verify the key is in the dictionary\n",
    "\n",
    "'The Bodyguard' in release_year_dict\n",
    "release_year_dict['Graduation'] = '2007'\n",
    "print(release_year_dict)\n",
    "\n",
    "# Delete entries by key\n",
    "\n",
    "del(release_year_dict['Thriller'])\n",
    "del(release_year_dict['Graduation'])\n",
    "print(release_year_dict)\n",
    "\n",
    "# Verify the key is in the dictionary\n",
    "\n",
    "print('The Bodyguard' in release_year_dict)\n",
    "\n",
    "\n",
    "\n",
    "\n"
   ]
  },
  {
   "cell_type": "code",
   "execution_count": 19,
   "metadata": {},
   "outputs": [
    {
     "name": "stdout",
     "output_type": "stream",
     "text": [
      "{'The Bodyguard': '1992', 'Saturday Night Fever': '1977'}\n",
      "{'Back in Black': 50, 'The Bodyguard': 50, 'Thriller': 65}\n",
      "65\n",
      "dict_keys(['Back in Black', 'The Bodyguard', 'Thriller'])\n",
      "dict_values([50, 50, 65])\n"
     ]
    }
   ],
   "source": [
    "#Quiz on Dictionaries\n",
    "\n",
    "# Question sample dictionary\n",
    "\n",
    "soundtrack_dic = {\"The Bodyguard\":\"1992\", \"Saturday Night Fever\":\"1977\"}\n",
    "print(soundtrack_dic)\n",
    "\n",
    "album_sales_dict = {\"Back in Black\": 50, \"The Bodyguard\": 50, \"Thriller\": 65}\n",
    "print(album_sales_dict)\n",
    "\n",
    "# Write your code below and press Shift+Enter to execute\n",
    "\n",
    "print(album_sales_dict[\"Thriller\"])\n",
    "\n",
    "# Write your code below and press Shift+Enter to execute\n",
    "\n",
    "print(album_sales_dict.keys())\n",
    "# Write your code below and press Shift+Enter to execute\n",
    "\n",
    "print(album_sales_dict.values())"
   ]
  },
  {
   "cell_type": "code",
   "execution_count": 21,
   "metadata": {},
   "outputs": [
    {
     "data": {
      "text/plain": [
       "False"
      ]
     },
     "execution_count": 21,
     "metadata": {},
     "output_type": "execute_result"
    }
   ],
   "source": [
    "#CONDITIONS IN PYTHON \n",
    "\n",
    "#Condition Equal\n",
    "\n",
    "a = 5\n",
    "a == 6\n"
   ]
  },
  {
   "cell_type": "code",
   "execution_count": 22,
   "metadata": {},
   "outputs": [
    {
     "data": {
      "text/plain": [
       "False"
      ]
     },
     "execution_count": 22,
     "metadata": {},
     "output_type": "execute_result"
    }
   ],
   "source": [
    "\n",
    "\n",
    "# Greater than Sign\n",
    "\n",
    "i = 2\n",
    "i > 5\n",
    "\n"
   ]
  },
  {
   "cell_type": "code",
   "execution_count": 23,
   "metadata": {},
   "outputs": [
    {
     "data": {
      "text/plain": [
       "True"
      ]
     },
     "execution_count": 23,
     "metadata": {},
     "output_type": "execute_result"
    }
   ],
   "source": [
    "# Inequality Sign\n",
    "\n",
    "i = 2\n",
    "i != 6\n",
    "\n"
   ]
  },
  {
   "cell_type": "code",
   "execution_count": 24,
   "metadata": {},
   "outputs": [
    {
     "data": {
      "text/plain": [
       "False"
      ]
     },
     "execution_count": 24,
     "metadata": {},
     "output_type": "execute_result"
    }
   ],
   "source": [
    "# Use Equality sign to compare the strings\n",
    "\n",
    "\"ACDC\" == \"Michael Jackson\"\n",
    "\n"
   ]
  },
  {
   "cell_type": "code",
   "execution_count": 25,
   "metadata": {},
   "outputs": [
    {
     "data": {
      "text/plain": [
       "True"
      ]
     },
     "execution_count": 25,
     "metadata": {},
     "output_type": "execute_result"
    }
   ],
   "source": [
    "\n",
    "\n",
    "# Compare characters\n",
    "\n",
    "'B' > 'A'\n",
    "\n"
   ]
  },
  {
   "cell_type": "code",
   "execution_count": 27,
   "metadata": {},
   "outputs": [
    {
     "data": {
      "text/plain": [
       "True"
      ]
     },
     "execution_count": 27,
     "metadata": {},
     "output_type": "execute_result"
    }
   ],
   "source": [
    "\n",
    "# Compare characters\n",
    "\n",
    "'BA' > 'AB'"
   ]
  },
  {
   "cell_type": "code",
   "execution_count": 28,
   "metadata": {},
   "outputs": [
    {
     "name": "stdout",
     "output_type": "stream",
     "text": [
      "you can enter\n",
      "move on\n",
      "go see Meat Loaf\n",
      "move on\n",
      "go see Pink Floyd\n",
      "move on\n",
      "do something..\n",
      "Album year is greater than 1980\n",
      "do something..\n",
      "Album year was in between 1980 and 1989\n",
      "\n",
      "Do Stuff..\n",
      "Album was not made in the 1980's\n",
      "Album year is not 1984\n"
     ]
    }
   ],
   "source": [
    "# If statement example\n",
    "\n",
    "age = 19\n",
    "#age = 18\n",
    "\n",
    "#expression that can be true or false\n",
    "if age > 18:\n",
    "    \n",
    "    #within an indent, we have the expression that is run if the condition is true\n",
    "    print(\"you can enter\" )\n",
    "\n",
    "#The statements after the if statement will run regardless if the condition is true or false \n",
    "print(\"move on\")\n",
    "\n",
    "\n",
    "# Else statement example\n",
    "\n",
    "age = 18\n",
    "# age = 19\n",
    "\n",
    "if age > 18:\n",
    "    print(\"you can enter\" )\n",
    "else:\n",
    "    print(\"go see Meat Loaf\" )\n",
    "    \n",
    "print(\"move on\")\n",
    "\n",
    "\n",
    "# Elif statment example\n",
    "\n",
    "age = 18\n",
    "\n",
    "if age > 18:\n",
    "    print(\"you can enter\" )\n",
    "elif age == 18:\n",
    "    print(\"go see Pink Floyd\")\n",
    "else:\n",
    "    print(\"go see Meat Loaf\" )\n",
    "    \n",
    "print(\"move on\")\n",
    "\n",
    "\n",
    "# Condition statement example\n",
    "\n",
    "album_year = 1983\n",
    "album_year = 1970\n",
    "\n",
    "if album_year > 1980:\n",
    "    print(\"Album year is greater than 1980\")\n",
    "    \n",
    "print('do something..')\n",
    "\n",
    "# Condition statement example\n",
    "\n",
    "album_year = 1983\n",
    "#album_year = 1970\n",
    "\n",
    "if album_year > 1980:\n",
    "    print(\"Album year is greater than 1980\")\n",
    "else:\n",
    "    print(\"less than 1980\")\n",
    "\n",
    "print('do something..')\n",
    "\n",
    "# Condition statement example\n",
    "\n",
    "album_year = 1980\n",
    "\n",
    "if(album_year > 1979) and (album_year < 1990):\n",
    "    print (\"Album year was in between 1980 and 1989\")\n",
    "    \n",
    "print(\"\")\n",
    "print(\"Do Stuff..\")\n",
    "\n",
    "# Condition statement example\n",
    "\n",
    "album_year = 1990\n",
    "\n",
    "if(album_year < 1980) or (album_year > 1989):\n",
    "    print (\"Album was not made in the 1980's\")\n",
    "else:\n",
    "    print(\"The Album was made in the 1980's \")\n",
    "    \n",
    "# Condition statement example\n",
    "\n",
    "album_year = 1983\n",
    "\n",
    "if not (album_year == '1984'):\n",
    "    print (\"Album year is not 1984\")"
   ]
  },
  {
   "cell_type": "code",
   "execution_count": 29,
   "metadata": {},
   "outputs": [
    {
     "name": "stdout",
     "output_type": "stream",
     "text": [
      "This album is amazing!\n",
      "This album is okay!\n",
      "this album came out already\n"
     ]
    }
   ],
   "source": [
    "#Quiz on Conditions\n",
    "\n",
    "# Write your code below and press Shift+Enter to execute\n",
    "\n",
    "rating = 8.5 \n",
    "\n",
    "if rating > 8:\n",
    "    print(\"This album is amazing!\")\n",
    "    \n",
    "# Write your code below and press Shift+Enter to execute\n",
    "\n",
    "rating = 7.5 \n",
    "\n",
    "if rating > 8:\n",
    "    print(\"This album is amazing!\")\n",
    "else:     \n",
    "    print (\"This album is okay!\")\n",
    "    \n",
    "    \n",
    "# Write your code below and press Shift+Enter to execute\n",
    "\n",
    "album_year = 1979\n",
    "\n",
    "if album_year < 1980 or album_year == 1991 or album_year == 1993:\n",
    "    print (\"this album came out already\")"
   ]
  },
  {
   "cell_type": "code",
   "execution_count": 31,
   "metadata": {},
   "outputs": [
    {
     "name": "stdout",
     "output_type": "stream",
     "text": [
      "range(0, 3)\n",
      "1982\n",
      "1980\n",
      "1973\n",
      "0\n",
      "1\n",
      "2\n",
      "3\n",
      "4\n",
      "5\n",
      "6\n",
      "7\n",
      "1982\n",
      "1980\n",
      "1973\n",
      "Before square  0 is red\n",
      "After square  0 is weight\n",
      "Before square  1 is yellow\n",
      "After square  1 is weight\n",
      "Before square  2 is green\n",
      "After square  2 is weight\n",
      "Before square  3 is purple\n",
      "After square  3 is weight\n",
      "Before square  4 is blue\n",
      "After square  4 is weight\n",
      "0 red\n",
      "1 yellow\n",
      "2 green\n",
      "3 purple\n",
      "4 blue\n",
      "1982\n",
      "1980\n",
      "1973\n",
      "It took  3 repetitions to get out of loop.\n"
     ]
    }
   ],
   "source": [
    "#LOOPS\n",
    "\n",
    "# Use the range\n",
    "\n",
    "print(range(3))\n",
    "\n",
    "# For loop example\n",
    "\n",
    "dates = [1982,1980,1973]\n",
    "N = len(dates)\n",
    "\n",
    "for i in range(N):\n",
    "    print(dates[i])\n",
    "    \n",
    "# Example of for loop\n",
    "\n",
    "for i in range(0, 8):\n",
    "    print(i)\n",
    "    \n",
    "    \n",
    "    # Exmaple of for loop, loop through list\n",
    "\n",
    "for year in dates:  \n",
    "    print(year)   \n",
    "    \n",
    "# Use for loop to change the elements in list\n",
    "\n",
    "squares = ['red', 'yellow', 'green', 'purple', 'blue']\n",
    "\n",
    "for i in range(0, 5):\n",
    "    print(\"Before square \", i, 'is',  squares[i])\n",
    "    squares[i] = 'weight'\n",
    "    print(\"After square \", i, 'is',  squares[i])\n",
    "    \n",
    "# Loop through the list and iterate on both index and element value\n",
    "\n",
    "squares=['red', 'yellow', 'green', 'purple', 'blue']\n",
    "\n",
    "for i, square in enumerate(squares):\n",
    "    print(i, square)\n",
    "    \n",
    "    \n",
    "# While Loop Example\n",
    "\n",
    "dates = [1982, 1980, 1973, 2000]\n",
    "\n",
    "i = 0\n",
    "year = 0\n",
    "\n",
    "while(year != 1973):\n",
    "    year = dates[i]\n",
    "    i = i + 1\n",
    "    print(year)\n",
    "\n",
    "print(\"It took \", i ,\"repetitions to get out of loop.\")\n",
    "\n",
    "\n"
   ]
  },
  {
   "cell_type": "code",
   "execution_count": 32,
   "metadata": {},
   "outputs": [
    {
     "name": "stdout",
     "output_type": "stream",
     "text": [
      "rock\n",
      "R&B\n",
      "Soundtrack\n",
      "R&B\n",
      "soul\n",
      "pop\n",
      "red\n",
      "yellow\n",
      "green\n",
      "purple\n",
      "blue\n",
      "10\n",
      "9.5\n",
      "10\n",
      "8\n",
      "7.5\n",
      "['orange', 'orange']\n"
     ]
    }
   ],
   "source": [
    "#Quiz on Loops\n",
    "\n",
    "# Write your code below and press Shift+Enter to execute\n",
    "\n",
    "Genres = ['rock', 'R&B', 'Soundtrack', 'R&B', 'soul', 'pop']\n",
    "for Genre in Genres:\n",
    "    print(Genre)\n",
    "    \n",
    "squares=['red', 'yellow', 'green', 'purple', 'blue']\n",
    "for square in squares:\n",
    "    print(square)\n",
    "\n",
    "#Write your code below and press Shift+Enter to execute\n",
    "\n",
    "PlayListRatings = [10, 9.5, 10, 8, 7.5, 5, 10, 10]\n",
    "i = 1\n",
    "Rating = PlayListRatings[0]\n",
    "while(Rating >= 6):\n",
    "    print(Rating)\n",
    "    Rating = PlayListRatings[i]\n",
    "    i = i + 1\n",
    "    \n",
    "# Write your code below and press Shift+Enter to execute\n",
    "\n",
    "squares = ['orange', 'orange', 'purple', 'blue ', 'orange']\n",
    "new_squares = []\n",
    "\n",
    "i = 0\n",
    "while(squares[i] == 'orange'):\n",
    "    new_squares.append(squares[i])\n",
    "    i = i + 1\n",
    "print (new_squares)"
   ]
  },
  {
   "cell_type": "code",
   "execution_count": 38,
   "metadata": {},
   "outputs": [
    {
     "name": "stdout",
     "output_type": "stream",
     "text": [
      "1 if you add one 2\n",
      "2\n",
      "2 if you add one 3\n",
      "3\n",
      "6\n",
      "31.400000000000002\n",
      "Michael Jackson Michael Jackson \n"
     ]
    }
   ],
   "source": [
    "# First function example: Add 1 to a and store as b\n",
    "\n",
    "def add(a):\n",
    "    b = a + 1\n",
    "    print(a, \"if you add one\", b)\n",
    "    return(b)\n",
    "\n",
    "\n",
    "# First function example: Add 1 to a and store as b\n",
    "\n",
    "def add(a):\n",
    "    b = a + 1\n",
    "    print(a, \"if you add one\", b)\n",
    "    return(b)\n",
    "\n",
    "# Call the function add()\n",
    "\n",
    "print(add(1))\n",
    "\n",
    "# Call the function add()\n",
    "\n",
    "print(add(2))\n",
    "\n",
    "# Define a function for multiple two numbers\n",
    "\n",
    "def Mult(a, b):\n",
    "    c = a * b\n",
    "    return(c)\n",
    "\n",
    "# Use mult() multiply two integers\n",
    "\n",
    "print(Mult(2, 3))\n",
    "# Use mult() multiply two floats\n",
    "\n",
    "print(Mult(10.0, 3.14))\n",
    "\n",
    "\n",
    "# Use mult() multiply two different type values together\n",
    "\n",
    "print(Mult(2, \"Michael Jackson \"))"
   ]
  },
  {
   "cell_type": "code",
   "execution_count": 40,
   "metadata": {},
   "outputs": [
    {
     "name": "stdout",
     "output_type": "stream",
     "text": [
      "3 if you square + 1 10\n",
      "10\n",
      "2 if you square + 1 5\n",
      "5\n",
      "Michael Jackson\n",
      "None\n",
      "Michael Jackson\n",
      "None\n",
      "Michael Jackson\n",
      "None\n",
      "Michael Jackson\n",
      "None\n",
      "This is\n",
      "5\n",
      "0\n",
      "5\n",
      "0\n",
      "[10.0, 8.5, 9.5, 7.0, 7.0, 9.5, 9.0, 9.5]\n",
      "70.0\n",
      "8\n"
     ]
    }
   ],
   "source": [
    "#Variable\n",
    "\n",
    "# Function Definition\n",
    "\n",
    "def square(a):\n",
    "    \n",
    "    # Local variable b\n",
    "    b = 1\n",
    "    c = a * a + b\n",
    "    print(a, \"if you square + 1\", c) \n",
    "    return(c)\n",
    "\n",
    "# Initializes Global variable  \n",
    "\n",
    "x = 3\n",
    "# Makes function call and return function a y\n",
    "y = square(x)\n",
    "print(y)\n",
    "\n",
    "# Directly enter a number as parameter\n",
    "\n",
    "print(square(2))\n",
    "\n",
    "# Define functions, one with return value None and other without return value\n",
    "\n",
    "def MJ():\n",
    "    print('Michael Jackson')\n",
    "    \n",
    "def MJ1():\n",
    "    print('Michael Jackson')\n",
    "    return(None)\n",
    "\n",
    "# See the output\n",
    "\n",
    "print(MJ())\n",
    "\n",
    "# See the output\n",
    "\n",
    "print(MJ1())\n",
    "\n",
    "# See what functions returns are\n",
    "\n",
    "\n",
    "print(MJ())\n",
    "print(MJ1())\n",
    "\n",
    "# Define the function for combining strings\n",
    "\n",
    "def con(a, b):\n",
    "    return(a + b)\n",
    "\n",
    "# Test on the con() function\n",
    "\n",
    "print(con(\"This \", \"is\"))\n",
    "\n",
    "# a and b calculation block1\n",
    "\n",
    "a1 = 4\n",
    "b1 = 5\n",
    "c1 = a1 + b1 + 2 * a1 * b1 - 1\n",
    "if(c1 < 0):\n",
    "    c1 = 0 \n",
    "else:\n",
    "    c1 = 5\n",
    "print(c1)   \n",
    "\n",
    "# a and b calculation block2\n",
    "\n",
    "a2 = 0\n",
    "b2 = 0\n",
    "c2 = a2 + b2 + 2 * a2 * b2 - 1\n",
    "if(c2 < 0):\n",
    "    c2 = 0 \n",
    "else:\n",
    "    c2 = 5\n",
    "print(c2)\n",
    "\n",
    "# Make a Function for the calculation above\n",
    "\n",
    "def Equation(a,b):\n",
    "    c = a + b + 2 * a * b - 1\n",
    "    if(c < 0):\n",
    "        c = 0 \n",
    "    else:\n",
    "        c = 5\n",
    "    return(c) \n",
    "\n",
    "a1 = 4\n",
    "b1 = 5\n",
    "c1 = Equation(a1, b1)\n",
    "print(c1)\n",
    "\n",
    "a2 = 0\n",
    "b2 = 0\n",
    "c2 = Equation(a2, b2)\n",
    "print(c2)\n",
    "\n",
    "# Build-in function print()\n",
    "\n",
    "album_ratings = [10.0, 8.5, 9.5, 7.0, 7.0, 9.5, 9.0, 9.5] \n",
    "print(album_ratings)\n",
    "\n",
    "# Use sum() to add every element in a list or tuple together\n",
    "\n",
    "print(sum(album_ratings))\n",
    "\n",
    "# Show the length of the list or tuple\n",
    "\n",
    "print(len(album_ratings))\n"
   ]
  },
  {
   "cell_type": "code",
   "execution_count": 35,
   "metadata": {},
   "outputs": [
    {
     "name": "stdout",
     "output_type": "stream",
     "text": [
      "Michael Jackson Thriller 1980\n",
      "Oldie\n",
      "1\n",
      "1\n",
      "the man\n",
      "abc\n",
      "this album sucks it's rating is 4\n",
      "this album is good its rating is 10\n"
     ]
    }
   ],
   "source": [
    "#Using if/else Statements and Loops in Functions\n",
    "\n",
    "# Function example\n",
    "\n",
    "def type_of_album(artist, album, year_released):\n",
    "    \n",
    "    print(artist, album, year_released)\n",
    "    if year_released > 1980:\n",
    "        return \"Modern\"\n",
    "    else:\n",
    "        return \"Oldie\"\n",
    "    \n",
    "x = type_of_album(\"Michael Jackson\", \"Thriller\", 1980)\n",
    "print(x)\n",
    "\n",
    "# Print the list using for loop\n",
    "\n",
    "def PrintList(the_list):\n",
    "    for element in the_list:\n",
    "        print(element)\n",
    "        \n",
    "# Implement the printlist function\n",
    "\n",
    "print(PrintList(['1', 1, 'the man', \"abc\"]))\n",
    "\n",
    "# Example for setting param with default value\n",
    "\n",
    "def isGoodRating(rating=4): \n",
    "    if(rating < 7):\n",
    "        print(\"this album sucks it's rating is\",rating)\n",
    "        \n",
    "    else:\n",
    "        print(\"this album is good its rating is\",rating)\n",
    "        \n",
    "# Test the value with default value and with input\n",
    "\n",
    "isGoodRating()\n",
    "print(isGoodRating(10))"
   ]
  },
  {
   "cell_type": "code",
   "execution_count": 36,
   "metadata": {},
   "outputs": [
    {
     "name": "stdout",
     "output_type": "stream",
     "text": [
      "Michael Jackson is an artist\n",
      "Michael Jackson is an artist\n",
      "Whitney Houston is an artist\n",
      "AC/DC's rating is: 10.0\n",
      "Deep Purple's rating is: 0.0\n",
      "My favourite band is: AC/DC\n",
      "AC/DC's rating is:  10.0\n",
      "Deep Purple's rating is:  0.0\n",
      "My favourite band is AC/DC\n",
      "AC/DC's rating is: 0.0\n",
      "Deep Purple's rating is:  10.0\n",
      "My favourite band is: AC/DC\n"
     ]
    }
   ],
   "source": [
    "#Global variables\n",
    "\n",
    "# Example of global variable\n",
    "\n",
    "artist = \"Michael Jackson\"\n",
    "def printer1(artist):\n",
    "    internal_var = artist\n",
    "    print(artist, \"is an artist\")\n",
    "    \n",
    "printer1(artist)\n",
    "\n",
    "artist = \"Michael Jackson\"\n",
    "\n",
    "def printer(artist):\n",
    "    global internal_var \n",
    "    internal_var= \"Whitney Houston\"\n",
    "    print(artist,\"is an artist\")\n",
    "\n",
    "printer(artist) \n",
    "printer(internal_var)\n",
    "\n",
    "# Example of global variable\n",
    "\n",
    "myFavouriteBand = \"AC/DC\"\n",
    "\n",
    "def getBandRating(bandname):\n",
    "    if bandname == myFavouriteBand:\n",
    "        return 10.0\n",
    "    else:\n",
    "        return 0.0\n",
    "\n",
    "print(\"AC/DC's rating is:\", getBandRating(\"AC/DC\"))\n",
    "print(\"Deep Purple's rating is:\",getBandRating(\"Deep Purple\"))\n",
    "print(\"My favourite band is:\", myFavouriteBand)\n",
    "\n",
    "\n",
    "# Example of local variable\n",
    "\n",
    "def getBandRating(bandname):\n",
    "    myFavouriteBand = \"AC/DC\"\n",
    "    if bandname == myFavouriteBand:\n",
    "        return 10.0\n",
    "    else:\n",
    "        return 0.0\n",
    "\n",
    "print(\"AC/DC's rating is: \", getBandRating(\"AC/DC\"))\n",
    "print(\"Deep Purple's rating is: \", getBandRating(\"Deep Purple\"))\n",
    "print(\"My favourite band is\", myFavouriteBand)\n",
    "\n",
    "# Example of global variable and local variable with the same name\n",
    "\n",
    "myFavouriteBand = \"AC/DC\"\n",
    "\n",
    "def getBandRating(bandname):\n",
    "    myFavouriteBand = \"Deep Purple\"\n",
    "    if bandname == myFavouriteBand:\n",
    "        return 10.0\n",
    "    else:\n",
    "        return 0.0\n",
    "\n",
    "print(\"AC/DC's rating is:\",getBandRating(\"AC/DC\"))\n",
    "print(\"Deep Purple's rating is: \",getBandRating(\"Deep Purple\"))\n",
    "print(\"My favourite band is:\",myFavouriteBand)"
   ]
  },
  {
   "cell_type": "code",
   "execution_count": 41,
   "metadata": {},
   "outputs": [
    {
     "ename": "SyntaxError",
     "evalue": "invalid syntax (<ipython-input-41-3ebee5b5f5eb>, line 15)",
     "output_type": "error",
     "traceback": [
      "\u001b[1;36m  File \u001b[1;32m\"<ipython-input-41-3ebee5b5f5eb>\"\u001b[1;36m, line \u001b[1;32m15\u001b[0m\n\u001b[1;33m    yes for example:\u001b[0m\n\u001b[1;37m          ^\u001b[0m\n\u001b[1;31mSyntaxError\u001b[0m\u001b[1;31m:\u001b[0m invalid syntax\n"
     ]
    }
   ],
   "source": [
    "#Quiz on functions\n",
    "\n",
    "# Write your code below and press Shift+Enter to execute\n",
    "\n",
    "def div(a, b):\n",
    "    return(a/b)\n",
    "\n",
    "# Use the con function for the following question\n",
    "\n",
    "def con(a, b):\n",
    "    return(a + b)\n",
    "\n",
    "# Write your code below and press Shift+Enter to execute\n",
    "\n",
    "yes for example: \n",
    "con(2, 2)\n",
    "\n",
    "# Write your code below and press Shift+Enter to execute\n",
    "\n",
    "yes for example: \n",
    "con(['a', 1], ['b', 1])"
   ]
  },
  {
   "cell_type": "code",
   "execution_count": 44,
   "metadata": {},
   "outputs": [
    {
     "name": "stdout",
     "output_type": "stream",
     "text": [
      "['__class__', '__delattr__', '__dict__', '__dir__', '__doc__', '__eq__', '__format__', '__ge__', '__getattribute__', '__gt__', '__hash__', '__init__', '__init_subclass__', '__le__', '__lt__', '__module__', '__ne__', '__new__', '__reduce__', '__reduce_ex__', '__repr__', '__setattr__', '__sizeof__', '__str__', '__subclasshook__', '__weakref__', 'add_radius', 'color', 'drawCircle', 'radius']\n",
      "10\n",
      "red\n",
      "1\n"
     ]
    },
    {
     "data": {
      "image/png": "[encoded data removed]",
      "text/plain": [
       "<Figure size 432x288 with 1 Axes>"
      ]
     },
     "metadata": {
      "needs_background": "light"
     },
     "output_type": "display_data"
    },
    {
     "name": "stdout",
     "output_type": "stream",
     "text": [
      "None\n",
      "Radius of object: 1\n",
      "Radius of object of after applying the method add_radius(2): 3\n",
      "Radius of object of after applying the method add_radius(5): 8\n",
      "100\n",
      "blue\n"
     ]
    },
    {
     "data": {
      "image/png": "[encoded data removed]",
      "text/plain": [
       "<Figure size 432x288 with 1 Axes>"
      ]
     },
     "metadata": {
      "needs_background": "light"
     },
     "output_type": "display_data"
    },
    {
     "name": "stdout",
     "output_type": "stream",
     "text": [
      "None\n"
     ]
    }
   ],
   "source": [
    "#ClASSES AND OBJECTS IN PYTHON\n",
    "\n",
    "# Import the library\n",
    "\n",
    "import matplotlib.pyplot as plt\n",
    "%matplotlib inline  \n",
    "\n",
    "# Create a class Circle\n",
    "\n",
    "class Circle(object):\n",
    "    \n",
    "    # Constructor\n",
    "    def __init__(self, radius=3, color='blue'):\n",
    "        self.radius = radius\n",
    "        self.color = color \n",
    "    \n",
    "    # Method\n",
    "    def add_radius(self, r):\n",
    "        self.radius = self.radius + r\n",
    "        return(self.radius)\n",
    "    \n",
    "    # Method\n",
    "    def drawCircle(self):\n",
    "        plt.gca().add_patch(plt.Circle((0, 0), radius=self.radius, fc=self.color))\n",
    "        plt.axis('scaled')\n",
    "        plt.show()  \n",
    "        \n",
    "        \n",
    "# Create an object RedCircle\n",
    "\n",
    "RedCircle = Circle(10, 'red')\n",
    "\n",
    "# Find out the methods can be used on the object RedCircle\n",
    "\n",
    "print(dir(RedCircle))\n",
    "\n",
    "# Print the object attribute radius\n",
    "\n",
    "print(RedCircle.radius)\n",
    "\n",
    "# Print the object attribute color\n",
    "\n",
    "print(RedCircle.color)\n",
    "\n",
    "# Set the object attribute radius\n",
    "\n",
    "RedCircle.radius = 1\n",
    "print(RedCircle.radius)\n",
    "\n",
    "# Call the method drawCircle\n",
    "\n",
    "print(RedCircle.drawCircle())\n",
    "\n",
    "# Use method to change the object attribute radius\n",
    "\n",
    "print('Radius of object:',RedCircle.radius)\n",
    "RedCircle.add_radius(2)\n",
    "print('Radius of object of after applying the method add_radius(2):',RedCircle.radius)\n",
    "RedCircle.add_radius(5)\n",
    "print('Radius of object of after applying the method add_radius(5):',RedCircle.radius)\n",
    "\n",
    "\n",
    "# Create a blue circle with a given radius\n",
    "\n",
    "BlueCircle = Circle(radius=100)\n",
    "\n",
    "# Print the object attribute radius\n",
    "\n",
    "print(BlueCircle.radius)\n",
    "\n",
    "# Print the object attribute color\n",
    "\n",
    "print(BlueCircle.color)\n",
    "\n",
    "print(BlueCircle.drawCircle())\n",
    "\n"
   ]
  },
  {
   "cell_type": "code",
   "execution_count": 45,
   "metadata": {},
   "outputs": [
    {
     "name": "stdout",
     "output_type": "stream",
     "text": [
      "10\n",
      "2\n",
      "blue\n"
     ]
    },
    {
     "data": {
      "image/png": "[encoded data removed]",
      "text/plain": [
       "<Figure size 432x288 with 1 Axes>"
      ]
     },
     "metadata": {
      "needs_background": "light"
     },
     "output_type": "display_data"
    },
    {
     "name": "stdout",
     "output_type": "stream",
     "text": [
      "None\n",
      "5\n",
      "20\n",
      "yellow\n"
     ]
    },
    {
     "data": {
      "image/png": "[encoded data removed]",
      "text/plain": [
       "<Figure size 432x288 with 1 Axes>"
      ]
     },
     "metadata": {
      "needs_background": "light"
     },
     "output_type": "display_data"
    },
    {
     "name": "stdout",
     "output_type": "stream",
     "text": [
      "None\n"
     ]
    }
   ],
   "source": [
    "#The Rectangle Class\n",
    "\n",
    "# Create a new Rectangle class for creating a rectangle object\n",
    "\n",
    "class Rectangle(object):\n",
    "    \n",
    "    # Constructor\n",
    "    def __init__(self, width=2, height=3, color='r'):\n",
    "        self.height = height \n",
    "        self.width = width\n",
    "        self.color = color\n",
    "    \n",
    "    # Method\n",
    "    def drawRectangle(self):\n",
    "        plt.gca().add_patch(plt.Rectangle((0, 0), self.width, self.height ,fc=self.color))\n",
    "        plt.axis('scaled')\n",
    "        plt.show()\n",
    "        \n",
    "# Create a new object rectangle\n",
    "\n",
    "SkinnyBlueRectangle = Rectangle(2, 10, 'blue')\n",
    "\n",
    "\n",
    "# Print the object attribute height\n",
    "\n",
    "print(SkinnyBlueRectangle.height) \n",
    "\n",
    "\n",
    "# Print the object attribute width\n",
    "\n",
    "print(SkinnyBlueRectangle.width)\n",
    "\n",
    "# Print the object attribute color\n",
    "\n",
    "print(SkinnyBlueRectangle.color)\n",
    "\n",
    "# Use the drawRectangle method to draw the shape\n",
    "\n",
    "print(SkinnyBlueRectangle.drawRectangle())\n",
    "\n",
    "# Create a new object rectangle\n",
    "\n",
    "FatYellowRectangle = Rectangle(20, 5, 'yellow')\n",
    "\n",
    "# Print the object attribute height\n",
    "\n",
    "print(FatYellowRectangle.height)\n",
    "\n",
    "\n",
    "# Print the object attribute width\n",
    "\n",
    "print(FatYellowRectangle.width)\n",
    "\n",
    "# Print the object attribute color\n",
    "\n",
    "print(FatYellowRectangle.color)\n",
    "\n",
    "# Use the drawRectangle method to draw the shape\n",
    "\n",
    "print(FatYellowRectangle.drawRectangle())"
   ]
  },
  {
   "cell_type": "code",
   "execution_count": 46,
   "metadata": {},
   "outputs": [
    {
     "name": "stderr",
     "output_type": "stream",
     "text": [
      "'wget' is not recognized as an internal or external command,\n",
      "operable program or batch file.\n"
     ]
    }
   ],
   "source": [
    "#Reading Files Python\n",
    "\n",
    "\n",
    "# Download Example file\n",
    "\n",
    "!wget -O /resources/data/Example1.txt https://s3-api.us-geo.objectstorage.softlayer.net/cf-courses-data/CognitiveClass/PY0101EN/labs/example1.txt"
   ]
  },
  {
   "cell_type": "code",
   "execution_count": 48,
   "metadata": {},
   "outputs": [
    {
     "ename": "FileNotFoundError",
     "evalue": "[Errno 2] No such file or directory: '/resources/data/Example1.txt'",
     "output_type": "error",
     "traceback": [
      "\u001b[1;31m---------------------------------------------------------------------------\u001b[0m",
      "\u001b[1;31mFileNotFoundError\u001b[0m                         Traceback (most recent call last)",
      "\u001b[1;32m<ipython-input-48-3a29852f633a>\u001b[0m in \u001b[0;36m<module>\u001b[1;34m\u001b[0m\n\u001b[0;32m      2\u001b[0m \u001b[1;33m\u001b[0m\u001b[0m\n\u001b[0;32m      3\u001b[0m \u001b[0mexample1\u001b[0m \u001b[1;33m=\u001b[0m \u001b[1;34m\"/resources/data/Example1.txt\"\u001b[0m\u001b[1;33m\u001b[0m\u001b[1;33m\u001b[0m\u001b[0m\n\u001b[1;32m----> 4\u001b[1;33m \u001b[0mfile1\u001b[0m \u001b[1;33m=\u001b[0m \u001b[0mopen\u001b[0m\u001b[1;33m(\u001b[0m\u001b[0mexample1\u001b[0m\u001b[1;33m,\u001b[0m \u001b[1;34m\"r\"\u001b[0m\u001b[1;33m)\u001b[0m\u001b[1;33m\u001b[0m\u001b[1;33m\u001b[0m\u001b[0m\n\u001b[0m\u001b[0;32m      5\u001b[0m \u001b[1;33m\u001b[0m\u001b[0m\n\u001b[0;32m      6\u001b[0m \u001b[1;33m\u001b[0m\u001b[0m\n",
      "\u001b[1;31mFileNotFoundError\u001b[0m: [Errno 2] No such file or directory: '/resources/data/Example1.txt'"
     ]
    }
   ],
   "source": [
    "# Read the Example1.txt\n",
    "\n",
    "example1 = \"/resources/data/Example1.txt\"\n",
    "file1 = open(example1, \"r\")\n",
    "\n",
    "\n",
    "# Print the path of file\n",
    "\n",
    "file1.name\n",
    "\n",
    "# Print the path of file\n",
    "\n",
    "file1.name\n",
    "\n",
    "# Print the mode of file, either 'r' or 'w'\n",
    "\n",
    "file1.mode\n",
    "\n",
    "# Read the file\n",
    "\n",
    "FileContent = file1.read()\n",
    "FileContent\n",
    "\n",
    "# Print the file with '\\n' as a new line\n",
    "\n",
    "print(FileContent)\n",
    "\n",
    "# Type of file content\n",
    "\n",
    "type(FileContent)\n",
    "\n",
    "\n",
    "# Type of file content\n",
    "\n",
    "type(FileContent)\n",
    "\n"
   ]
  },
  {
   "cell_type": "code",
   "execution_count": 49,
   "metadata": {},
   "outputs": [
    {
     "ename": "FileNotFoundError",
     "evalue": "[Errno 2] No such file or directory: '/resources/data/Example1.txt'",
     "output_type": "error",
     "traceback": [
      "\u001b[1;31m---------------------------------------------------------------------------\u001b[0m",
      "\u001b[1;31mFileNotFoundError\u001b[0m                         Traceback (most recent call last)",
      "\u001b[1;32m<ipython-input-49-9b7bf0b86d6a>\u001b[0m in \u001b[0;36m<module>\u001b[1;34m\u001b[0m\n\u001b[0;32m      4\u001b[0m \u001b[1;31m# Open file using with\u001b[0m\u001b[1;33m\u001b[0m\u001b[1;33m\u001b[0m\u001b[1;33m\u001b[0m\u001b[0m\n\u001b[0;32m      5\u001b[0m \u001b[1;33m\u001b[0m\u001b[0m\n\u001b[1;32m----> 6\u001b[1;33m \u001b[1;32mwith\u001b[0m \u001b[0mopen\u001b[0m\u001b[1;33m(\u001b[0m\u001b[0mexample1\u001b[0m\u001b[1;33m,\u001b[0m \u001b[1;34m\"r\"\u001b[0m\u001b[1;33m)\u001b[0m \u001b[1;32mas\u001b[0m \u001b[0mfile1\u001b[0m\u001b[1;33m:\u001b[0m\u001b[1;33m\u001b[0m\u001b[1;33m\u001b[0m\u001b[0m\n\u001b[0m\u001b[0;32m      7\u001b[0m     \u001b[0mFileContent\u001b[0m \u001b[1;33m=\u001b[0m \u001b[0mfile1\u001b[0m\u001b[1;33m.\u001b[0m\u001b[0mread\u001b[0m\u001b[1;33m(\u001b[0m\u001b[1;33m)\u001b[0m\u001b[1;33m\u001b[0m\u001b[1;33m\u001b[0m\u001b[0m\n\u001b[0;32m      8\u001b[0m     \u001b[0mprint\u001b[0m\u001b[1;33m(\u001b[0m\u001b[0mFileContent\u001b[0m\u001b[1;33m)\u001b[0m\u001b[1;33m\u001b[0m\u001b[1;33m\u001b[0m\u001b[0m\n",
      "\u001b[1;31mFileNotFoundError\u001b[0m: [Errno 2] No such file or directory: '/resources/data/Example1.txt'"
     ]
    }
   ],
   "source": [
    "#A Better Way to Open a File\n",
    "\n",
    "\n",
    "# Open file using with\n",
    "\n",
    "with open(example1, \"r\") as file1:\n",
    "    FileContent = file1.read()\n",
    "    print(FileContent)\n",
    "    \n",
    "# Verify if the file is closed\n",
    "\n",
    "file1.closed\n",
    "\n",
    "# See the content of file\n",
    "\n",
    "print(FileContent)\n",
    "\n",
    "# Read first four characters\n",
    "\n",
    "with open(example1, \"r\") as file1:\n",
    "    print(file1.read(4))\n",
    "# Read certain amount of characters\n",
    "\n",
    "with open(example1, \"r\") as file1:\n",
    "    print(file1.read(4))\n",
    "    print(file1.read(4))\n",
    "    print(file1.read(7))\n",
    "    print(file1.read(15))\n",
    "    \n",
    "    \n",
    "# Read certain amount of characters\n",
    "\n",
    "with open(example1, \"r\") as file1:\n",
    "    print(file1.read(16))\n",
    "    print(file1.read(5))\n",
    "    print(file1.read(9))\n",
    "    \n",
    "    \n",
    "# Read one line\n",
    "\n",
    "with open(example1, \"r\") as file1:\n",
    "    print(\"first line: \" + file1.readline())\n",
    "    \n",
    "# Iterate through the lines\n",
    "\n",
    "with open(example1,\"r\") as file1:\n",
    "        i = 0;\n",
    "        for line in file1:\n",
    "            print(\"Iteration\", str(i), \": \", line)\n",
    "            i = i + 1;\n",
    "            \n",
    "            \n",
    "# Read all lines and save as a list\n",
    "\n",
    "with open(example1, \"r\") as file1:\n",
    "    FileasList = file1.readlines()\n",
    "    \n",
    "    \n",
    "# Read all lines and save as a list\n",
    "\n",
    "with open(example1, \"r\") as file1:\n",
    "    FileasList = file1.readlines()\n",
    "    \n",
    "    \n",
    " # Print the second line\n",
    "\n",
    "FileasList[1]\n",
    "\n",
    "# Print the third line\n",
    "\n",
    "FileasList[2]"
   ]
  },
  {
   "cell_type": "code",
   "execution_count": 51,
   "metadata": {},
   "outputs": [
    {
     "ename": "FileNotFoundError",
     "evalue": "[Errno 2] No such file or directory: '/resources/data/Example2.txt'",
     "output_type": "error",
     "traceback": [
      "\u001b[1;31m---------------------------------------------------------------------------\u001b[0m",
      "\u001b[1;31mFileNotFoundError\u001b[0m                         Traceback (most recent call last)",
      "\u001b[1;32m<ipython-input-51-2a4a46b89314>\u001b[0m in \u001b[0;36m<module>\u001b[1;34m\u001b[0m\n\u001b[0;32m      3\u001b[0m \u001b[1;31m# Write line to file\u001b[0m\u001b[1;33m\u001b[0m\u001b[1;33m\u001b[0m\u001b[1;33m\u001b[0m\u001b[0m\n\u001b[0;32m      4\u001b[0m \u001b[1;33m\u001b[0m\u001b[0m\n\u001b[1;32m----> 5\u001b[1;33m \u001b[1;32mwith\u001b[0m \u001b[0mopen\u001b[0m\u001b[1;33m(\u001b[0m\u001b[1;34m'/resources/data/Example2.txt'\u001b[0m\u001b[1;33m,\u001b[0m \u001b[1;34m'w'\u001b[0m\u001b[1;33m)\u001b[0m \u001b[1;32mas\u001b[0m \u001b[0mwritefile\u001b[0m\u001b[1;33m:\u001b[0m\u001b[1;33m\u001b[0m\u001b[1;33m\u001b[0m\u001b[0m\n\u001b[0m\u001b[0;32m      6\u001b[0m     \u001b[0mwritefile\u001b[0m\u001b[1;33m.\u001b[0m\u001b[0mwrite\u001b[0m\u001b[1;33m(\u001b[0m\u001b[1;34m\"This is line A\"\u001b[0m\u001b[1;33m)\u001b[0m\u001b[1;33m\u001b[0m\u001b[1;33m\u001b[0m\u001b[0m\n\u001b[0;32m      7\u001b[0m \u001b[1;33m\u001b[0m\u001b[0m\n",
      "\u001b[1;31mFileNotFoundError\u001b[0m: [Errno 2] No such file or directory: '/resources/data/Example2.txt'"
     ]
    }
   ],
   "source": [
    "#Writing Files\n",
    "\n",
    "# Write line to file\n",
    "\n",
    "with open('/resources/data/Example2.txt', 'w') as writefile:\n",
    "    writefile.write(\"This is line A\")\n",
    "    \n",
    "    \n",
    "# Read file\n",
    "\n",
    "with open('/resources/data/Example2.txt', 'r') as testwritefile:\n",
    "    print(testwritefile.read())\n",
    "    \n",
    "# Write lines to file\n",
    "\n",
    "with open('/resources/data/Example2.txt', 'w') as writefile:\n",
    "    writefile.write(\"This is line A\\n\")\n",
    "    writefile.write(\"This is line B\\n\")\n",
    "    \n",
    "# Check whether write to file\n",
    "\n",
    "with open('/resources/data/Example2.txt', 'r') as testwritefile:\n",
    "    print(testwritefile.read())\n",
    "    \n",
    "    \n",
    "# Write a new line to text file\n",
    "\n",
    "with open('/resources/data/Example2.txt', 'a') as testwritefile:\n",
    "    testwritefile.write(\"This is line C\\n\")\n",
    "    \n",
    "# Verify if the new line is in the text file\n",
    "\n",
    "with open('/resources/data/Example2.txt', 'r') as testwritefile:\n",
    "    print(testwritefile.read())\n",
    "    \n",
    "# Sample list of text\n",
    "\n",
    "Lines = [\"This is line A\\n\", \"This is line B\\n\", \"This is line C\\n\"]\n",
    "Lines\n",
    "\n",
    "# Write the strings in the list to text file\n",
    "\n",
    "with open('Example2.txt', 'w') as writefile:\n",
    "    for line in Lines:\n",
    "        print(line)\n",
    "        writefile.write(line)\n",
    "        \n",
    "# Verify if writing to file is successfully executed\n",
    "\n",
    "with open('Example2.txt', 'r') as testwritefile:\n",
    "    print(testwritefile.read())\n",
    "    \n",
    "# Append the line to the file\n",
    "\n",
    "with open('Example2.txt', 'a') as testwritefile:\n",
    "    testwritefile.write(\"This is line D\\n\")\n",
    "    \n",
    "# Verify if the appending is successfully executed\n",
    "\n",
    "with open('Example2.txt', 'r') as testwritefile:\n",
    "    print(testwritefile.read())\n",
    "    \n",
    "    \n",
    "#Copy a File\n",
    "\n",
    "# Copy file to another\n",
    "\n",
    "with open('Example2.txt','r') as readfile:\n",
    "    with open('Example3.txt','w') as writefile:\n",
    "          for line in readfile:\n",
    "                writefile.write(line)\n",
    "                \n",
    "# Verify if the copy is successfully executed\n",
    "\n",
    "with open('Example3.txt','r') as testwritefile:\n",
    "    print(testwritefile.read())\n"
   ]
  },
  {
   "cell_type": "code",
   "execution_count": 3,
   "metadata": {},
   "outputs": [
    {
     "name": "stdout",
     "output_type": "stream",
     "text": [
      "a[0]: 0\n",
      "a[1]: 1\n",
      "a[2]: two\n",
      "a[3]: 3\n",
      "a[4]: 4\n",
      "a[0]: 0\n",
      "a[1]: 1\n",
      "a[2]: 2\n",
      "a[3]: 3\n",
      "a[4]: 4\n",
      "<class 'numpy.ndarray'>\n",
      "int32\n",
      "<class 'numpy.ndarray'>\n",
      "float64\n",
      "[20  1  2  3  4]\n",
      "[100   1   2   3   4]\n",
      "[100   1   2   3   0]\n",
      "[1 2 3]\n",
      "[100   1   2 300 400]\n",
      "[100   2 300]\n",
      "[100000      1 100000 100000    400]\n",
      "[0 1 2 3 4]\n",
      "5\n",
      "1\n",
      "(5,)\n",
      "0.0\n",
      "1.0\n",
      "[-1  2  3  4  5]\n",
      "5\n",
      "-1\n"
     ]
    }
   ],
   "source": [
    "#1D NUMPY IN PYTHON\n",
    "\n",
    "# Import the libraries\n",
    "\n",
    "import time \n",
    "import sys\n",
    "import numpy as np \n",
    "\n",
    "import matplotlib.pyplot as plt\n",
    "%matplotlib inline  \n",
    "\n",
    "\n",
    "# Plotting functions\n",
    "\n",
    "def Plotvec1(u, z, v):\n",
    "    \n",
    "    ax = plt.axes()\n",
    "    ax.arrow(0, 0, *u, head_width=0.05, color='r', head_length=0.1)\n",
    "    plt.text(*(u + 0.1), 'u')\n",
    "    \n",
    "    ax.arrow(0, 0, *v, head_width=0.05, color='b', head_length=0.1)\n",
    "    plt.text(*(v + 0.1), 'v')\n",
    "    ax.arrow(0, 0, *z, head_width=0.05, head_length=0.1)\n",
    "    plt.text(*(z + 0.1), 'z')\n",
    "    plt.ylim(-2, 2)\n",
    "    plt.xlim(-2, 2)\n",
    "\n",
    "def Plotvec2(a,b):\n",
    "    ax = plt.axes()\n",
    "    ax.arrow(0, 0, *a, head_width=0.05, color ='r', head_length=0.1)\n",
    "    plt.text(*(a + 0.1), 'a')\n",
    "    ax.arrow(0, 0, *b, head_width=0.05, color ='b', head_length=0.1)\n",
    "    plt.text(*(b + 0.1), 'b')\n",
    "    plt.ylim(-2, 2)\n",
    "    plt.xlim(-2, 2)\n",
    "    \n",
    "    \n",
    "    \n",
    "# Create a python list\n",
    "\n",
    "a = [\"0\", 1, \"two\", \"3\", 4]\n",
    "\n",
    "\n",
    "# Print each element\n",
    "\n",
    "print(\"a[0]:\", a[0])\n",
    "print(\"a[1]:\", a[1])\n",
    "print(\"a[2]:\", a[2])\n",
    "print(\"a[3]:\", a[3])\n",
    "print(\"a[4]:\", a[4])\n",
    "\n",
    "\n",
    "# import numpy library\n",
    "\n",
    "import numpy as np \n",
    "\n",
    "\n",
    "# Create a numpy array\n",
    "\n",
    "a = np.array([0, 1, 2, 3, 4])\n",
    "a\n",
    "\n",
    "# Print each element\n",
    "\n",
    "print(\"a[0]:\", a[0])\n",
    "print(\"a[1]:\", a[1])\n",
    "print(\"a[2]:\", a[2])\n",
    "print(\"a[3]:\", a[3])\n",
    "print(\"a[4]:\", a[4])\n",
    "\n",
    "\n",
    "# Check the type of the array\n",
    "\n",
    "print(type(a))\n",
    "\n",
    "# Check the type of the values stored in numpy array\n",
    "\n",
    "print(a.dtype)\n",
    "\n",
    "# Create a numpy array\n",
    "\n",
    "b = np.array([3.1, 11.02, 6.2, 213.2, 5.2])\n",
    "\n",
    "# Check the type of array\n",
    "\n",
    "print(type(b))\n",
    "\n",
    "# Check the value type\n",
    "\n",
    "print(b.dtype)\n",
    "\n",
    "\n",
    "#Assign Value\n",
    "\n",
    "# Create numpy array\n",
    "\n",
    "c = np.array([20, 1, 2, 3, 4])\n",
    "print(c)\n",
    "\n",
    "# Assign the first element to 100\n",
    "\n",
    "c[0] = 100\n",
    "print(c)\n",
    "\n",
    "# Assign the 5th element to 0\n",
    "\n",
    "c[4] = 0\n",
    "print(c)\n",
    "\n",
    "\n",
    "\n",
    "\n",
    "# Slicing the numpy array\n",
    "\n",
    "d = c[1:4]\n",
    "print(d)\n",
    "\n",
    "# Set the fourth element and fifth element to 300 and 400\n",
    "\n",
    "c[3:5] = 300, 400\n",
    "print(c)\n",
    "\n",
    "\n",
    "# Create the index list\n",
    "\n",
    "select = [0, 2, 3]\n",
    "\n",
    "# Use List to select elements\n",
    "\n",
    "d = c[select]\n",
    "print(d)\n",
    "\n",
    "# Assign the specified elements to new value\n",
    "\n",
    "c[select] = 100000\n",
    "print(c)\n",
    "\n",
    "\n",
    "# Create a numpy array\n",
    "\n",
    "a = np.array([0, 1, 2, 3, 4])\n",
    "print(a)\n",
    "\n",
    "# Get the size of numpy array\n",
    "\n",
    "print(a.size)\n",
    "\n",
    "# Get the number of dimensions of numpy array\n",
    "\n",
    "print(a.ndim)\n",
    "\n",
    "# Get the shape/size of numpy array\n",
    "\n",
    "print(a.shape)\n",
    "\n",
    "# Create a numpy array\n",
    "\n",
    "a = np.array([1, -1, 1, -1])\n",
    "\n",
    "# Get the mean of numpy array\n",
    "\n",
    "mean = a.mean()\n",
    "print(mean)\n",
    "\n",
    "# Get the standard deviation of numpy array\n",
    "\n",
    "standard_deviation=a.std()\n",
    "print(standard_deviation)\n",
    "\n",
    "# Create a numpy array\n",
    "\n",
    "b = np.array([-1, 2, 3, 4, 5])\n",
    "print(b)\n",
    "\n",
    "# Get the biggest value in the numpy array\n",
    "\n",
    "max_b = b.max()\n",
    "print(max_b)\n",
    "\n",
    "\n",
    "# Get the smallest value in the numpy array\n",
    "\n",
    "min_b = b.min()\n",
    "print(min_b)\n",
    "\n"
   ]
  },
  {
   "cell_type": "code",
   "execution_count": 4,
   "metadata": {},
   "outputs": [
    {
     "data": {
      "text/plain": [
       "array([2, 3, 4, 0])"
      ]
     },
     "execution_count": 4,
     "metadata": {},
     "output_type": "execute_result"
    },
    {
     "data": {
      "image/png": "[encoded data removed]",
      "text/plain": [
       "<Figure size 432x288 with 1 Axes>"
      ]
     },
     "metadata": {
      "needs_background": "light"
     },
     "output_type": "display_data"
    }
   ],
   "source": [
    "#Numpy Array Operations\n",
    "\n",
    "u = np.array([1, 0])\n",
    "print(u)\n",
    "\n",
    "v = np.array([0, 1])\n",
    "print(v)\n",
    "\n",
    "# Numpy Array Addition\n",
    "\n",
    "z = u + v\n",
    "print(z)\n",
    "\n",
    "# Plot numpy arrays\n",
    "\n",
    "Plotvec1(u, z, v)\n",
    "\n",
    "# Create a numpy array\n",
    "\n",
    "y = np.array([1, 2])\n",
    "print(y)\n",
    "\n",
    "# Numpy Array Multiplication\n",
    "\n",
    "z = 2 * y\n",
    "print(z)\n",
    "\n",
    "# Create a numpy array\n",
    "\n",
    "u = np.array([1, 2])\n",
    "print(u)\n",
    "\n",
    "# Create a numpy array\n",
    "\n",
    "v = np.array([3, 2])\n",
    "print(v)\n",
    "\n",
    "# Calculate the production of two numpy arrays\n",
    "\n",
    "z = u * v\n",
    "print(z)\n",
    "\n",
    "# Calculate the dot product\n",
    "\n",
    "np.dot(u, v)\n",
    "\n",
    "# Create a constant to numpy array\n",
    "\n",
    "u = np.array([1, 2, 3, -1]) \n",
    "print(u)\n",
    "\n",
    "# Add the constant to array\n",
    "\n",
    "u + 1\n",
    "\n"
   ]
  },
  {
   "cell_type": "code",
   "execution_count": 9,
   "metadata": {},
   "outputs": [
    {
     "name": "stdout",
     "output_type": "stream",
     "text": [
      "[0.0000000e+00 1.0000000e+00 1.2246468e-16]\n",
      "[-2. -1.  0.  1.  2.]\n",
      "[-2.  -1.5 -1.  -0.5  0.   0.5  1.   1.5  2. ]\n"
     ]
    },
    {
     "data": {
      "text/plain": [
       "[<matplotlib.lines.Line2D at 0x1a20c4ca6a0>]"
      ]
     },
     "execution_count": 9,
     "metadata": {},
     "output_type": "execute_result"
    },
    {
     "data": {
      "image/png": "[encoded data removed]",
      "text/plain": [
       "<Figure size 432x288 with 1 Axes>"
      ]
     },
     "metadata": {
      "needs_background": "light"
     },
     "output_type": "display_data"
    }
   ],
   "source": [
    "#Mathematical functions\n",
    "\n",
    "# The value of pie\n",
    "\n",
    "np.pi\n",
    "\n",
    "# Create the numpy array in radians\n",
    "\n",
    "x = np.array([0, np.pi/2 , np.pi])\n",
    "\n",
    "\n",
    "# Calculate the sin of each elements\n",
    "\n",
    "y = np.sin(x)\n",
    "print(y)\n",
    "\n",
    "\n",
    "#Linespace\n",
    "\n",
    "# Makeup a numpy array within [-2, 2] and 5 elements\n",
    "\n",
    "print(np.linspace(-2, 2, num=5))\n",
    "\n",
    "# Makeup a numpy array within [-2, 2] and 9 elements\n",
    "\n",
    "print(np.linspace(-2, 2, num=9))\n",
    "\n",
    "# Makeup a numpy array within [0, 2π] and 100 elements \n",
    "\n",
    "x = np.linspace(0, 2*np.pi, num=100)\n",
    "\n",
    "# Calculate the sine of x list\n",
    "\n",
    "y = np.sin(x)\n",
    "\n",
    "# Plot the result\n",
    "\n",
    "plt.plot(x, y)"
   ]
  },
  {
   "cell_type": "code",
   "execution_count": 10,
   "metadata": {},
   "outputs": [
    {
     "name": "stdout",
     "output_type": "stream",
     "text": [
      "[ 1 -1]\n",
      "[-4 -8]\n",
      "[1 0 3 0 5]\n",
      "None\n",
      "The dot product is 0\n",
      "None\n"
     ]
    },
    {
     "data": {
      "image/png": "[encoded data removed]",
      "text/plain": [
       "<Figure size 432x288 with 1 Axes>"
      ]
     },
     "metadata": {
      "needs_background": "light"
     },
     "output_type": "display_data"
    }
   ],
   "source": [
    "#Quiz on 1D Numpy Array \n",
    "\n",
    "# Write your code below and press Shift+Enter to execute\n",
    "\n",
    "u = np.array([1, 0])\n",
    "v = np.array([0, 1])\n",
    "\n",
    "print(u - v)\n",
    "\n",
    "# Write your code below and press Shift+Enter to execute\n",
    "\n",
    "z = np.array([2, 4])\n",
    "\n",
    "print(-2 * z)\n",
    "\n",
    "# Write your code below and press Shift+Enter to execute\n",
    "\n",
    "a = np.array([1, 2, 3, 4, 5])\n",
    "b = np.array([1, 0, 1, 0, 1])\n",
    "print(a * b)\n",
    "\n",
    "# Write your code below and press Shift+Enter to execute\n",
    "\n",
    "a = np.array([-1, 1])\n",
    "b = np.array([1, 1])\n",
    "print(Plotvec2(a, b))\n",
    "\n",
    "# Write your code below and press Shift+Enter to execute\n",
    "\n",
    "a = np.array([1, 0])\n",
    "b = np.array([0, 1])\n",
    "Plotvec2(a, b)\n",
    "print(\"The dot product is\", np.dot(a, b))\n",
    "\n",
    "\n",
    "# Write your code below and press Shift+Enter to execute\n",
    "\n",
    "a = np.array([1, 1])\n",
    "b = np.array([0, 1])\n",
    "print(Plotvec2(a, b))\n"
   ]
  },
  {
   "cell_type": "code",
   "execution_count": 1,
   "metadata": {},
   "outputs": [
    {
     "name": "stdout",
     "output_type": "stream",
     "text": [
      "[[11, 12, 13], [21, 22, 23], [31, 32, 33]]\n",
      "[[11 12 13]\n",
      " [21 22 23]\n",
      " [31 32 33]]\n",
      "2\n",
      "(3, 3)\n",
      "9\n",
      "23\n",
      "23\n",
      "11\n",
      "[11 12]\n",
      "[13 23]\n",
      "[[1 0]\n",
      " [0 1]]\n",
      "[[2 1]\n",
      " [1 2]]\n",
      "[[3 1]\n",
      " [1 3]]\n",
      "[[2 1]\n",
      " [1 2]]\n",
      "[[4 2]\n",
      " [2 4]]\n",
      "[[2 1]\n",
      " [1 2]]\n",
      "[[1 0]\n",
      " [0 1]]\n",
      "[[2 0]\n",
      " [0 2]]\n",
      "[[0 1 1]\n",
      " [1 0 1]]\n",
      "[[ 1  1]\n",
      " [ 1  1]\n",
      " [-1  1]]\n",
      "[[0 2]\n",
      " [0 2]]\n",
      "[[0.         0.90929743]\n",
      " [0.         0.90929743]]\n",
      "[[1 1]\n",
      " [2 2]\n",
      " [3 3]]\n",
      "[[1 2 3]\n",
      " [1 2 3]]\n"
     ]
    }
   ],
   "source": [
    "#2D Numpy in Python\n",
    "\n",
    "# Import the libraries\n",
    "\n",
    "import numpy as np \n",
    "import matplotlib.pyplot as plt\n",
    "\n",
    "# Create a list\n",
    "\n",
    "a = [[11, 12, 13], [21, 22, 23], [31, 32, 33]]\n",
    "print(a)\n",
    "\n",
    "# Convert list to Numpy Array\n",
    "# Every element is the same type\n",
    "\n",
    "A = np.array(a)\n",
    "print(A)\n",
    "\n",
    "\n",
    "# Show the numpy array dimensions\n",
    "\n",
    "print(A.ndim)\n",
    "\n",
    "# Show the numpy array shape\n",
    "\n",
    "print(A.shape)\n",
    "\n",
    "# Show the numpy array size\n",
    "\n",
    "print(A.size)\n",
    "\n",
    "\n",
    "# Access the element on the second row and third column\n",
    "\n",
    "print(A[1, 2])\n",
    "\n",
    "# Access the element on the second row and third column\n",
    "\n",
    "print(A[1][2])\n",
    "\n",
    "# Access the element on the first row and first column\n",
    "\n",
    "print(A[0][0])\n",
    "\n",
    "# Access the element on the first row and first and second columns\n",
    "\n",
    "print(A[0][0:2])\n",
    "\n",
    "# Access the element on the first and second rows and third column\n",
    "\n",
    "print(A[0:2, 2])\n",
    "\n",
    "# Create a numpy array X\n",
    "\n",
    "X = np.array([[1, 0], [0, 1]]) \n",
    "print(X)\n",
    "\n",
    "# Create a numpy array Y\n",
    "\n",
    "Y = np.array([[2, 1], [1, 2]]) \n",
    "print(Y)\n",
    "\n",
    "# Add X and Y\n",
    "\n",
    "Z = X + Y\n",
    "print(Z)\n",
    "\n",
    "# Create a numpy array Y\n",
    "\n",
    "Y = np.array([[2, 1], [1, 2]]) \n",
    "print(Y)\n",
    "\n",
    "# Multiply Y with 2\n",
    "\n",
    "Z = 2 * Y\n",
    "print(Z)\n",
    "\n",
    "# Create a numpy array Y\n",
    "\n",
    "Y = np.array([[2, 1], [1, 2]]) \n",
    "print(Y)\n",
    "\n",
    "# Create a numpy array X\n",
    "\n",
    "X = np.array([[1, 0], [0, 1]]) \n",
    "print(X)\n",
    "\n",
    "# Multiply X with Y\n",
    "\n",
    "Z = X * Y\n",
    "print(Z)\n",
    "\n",
    "# Create a matrix A\n",
    "\n",
    "A = np.array([[0, 1, 1], [1, 0, 1]])\n",
    "print(A)\n",
    "\n",
    "# Create a matrix B\n",
    "\n",
    "B = np.array([[1, 1], [1, 1], [-1, 1]])\n",
    "print(B)\n",
    "\n",
    "# Calculate the dot product\n",
    "\n",
    "Z = np.dot(A,B)\n",
    "print(Z)\n",
    "\n",
    "# Calculate the sine of print\n",
    "\n",
    "print(np.sin(Z))\n",
    "\n",
    "# Create a matrix C\n",
    "\n",
    "C = np.array([[1,1],[2,2],[3,3]])\n",
    "print(C)\n",
    "\n",
    "# Get the transposed of C\n",
    "\n",
    "print(C.T)\n",
    "\n"
   ]
  },
  {
   "cell_type": "code",
   "execution_count": null,
   "metadata": {},
   "outputs": [],
   "source": []
  }
 ],
 "metadata": {
  "kernelspec": {
   "display_name": "Python 3",
   "language": "python",
   "name": "python3"
  },
  "language_info": {
   "codemirror_mode": {
    "name": "ipython",
    "version": 3
   },
   "file_extension": ".py",
   "mimetype": "text/x-python",
   "name": "python",
   "nbconvert_exporter": "python",
   "pygments_lexer": "ipython3",
   "version": "3.7.1"
  }
 },
 "nbformat": 4,
 "nbformat_minor": 2
}
